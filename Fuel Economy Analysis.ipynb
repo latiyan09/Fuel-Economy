{
 "cells": [
  {
   "cell_type": "code",
   "execution_count": 1,
   "id": "6c531031",
   "metadata": {},
   "outputs": [],
   "source": [
    "import pandas as pd\n",
    "import numpy as np\n",
    "import matplotlib.pyplot as plt\n",
    "import seaborn as sns"
   ]
  },
  {
   "cell_type": "code",
   "execution_count": 8,
   "id": "4f6999d5",
   "metadata": {},
   "outputs": [],
   "source": [
    "df_08 = pd.read_csv(\"SmartWay Vehicle List MY 2008.csv\")"
   ]
  },
  {
   "cell_type": "code",
   "execution_count": 28,
   "id": "3ad69d77",
   "metadata": {},
   "outputs": [],
   "source": [
    "df_18 = pd.read_csv(\"SmartWay Vehicle List for MY 2018.csv\")"
   ]
  },
  {
   "cell_type": "code",
   "execution_count": 10,
   "id": "58b29f5f",
   "metadata": {},
   "outputs": [
    {
     "data": {
      "text/html": [
       "<div>\n",
       "<style scoped>\n",
       "    .dataframe tbody tr th:only-of-type {\n",
       "        vertical-align: middle;\n",
       "    }\n",
       "\n",
       "    .dataframe tbody tr th {\n",
       "        vertical-align: top;\n",
       "    }\n",
       "\n",
       "    .dataframe thead th {\n",
       "        text-align: right;\n",
       "    }\n",
       "</style>\n",
       "<table border=\"1\" class=\"dataframe\">\n",
       "  <thead>\n",
       "    <tr style=\"text-align: right;\">\n",
       "      <th></th>\n",
       "      <th>Model</th>\n",
       "      <th>Displ</th>\n",
       "      <th>Cyl</th>\n",
       "      <th>Trans</th>\n",
       "      <th>Drive</th>\n",
       "      <th>Fuel</th>\n",
       "      <th>Sales Area</th>\n",
       "      <th>Stnd</th>\n",
       "      <th>Underhood ID</th>\n",
       "      <th>Veh Class</th>\n",
       "      <th>Air Pollution Score</th>\n",
       "      <th>City MPG</th>\n",
       "      <th>Hwy MPG</th>\n",
       "      <th>Cmb MPG</th>\n",
       "      <th>Greenhouse Gas Score</th>\n",
       "      <th>SmartWay</th>\n",
       "    </tr>\n",
       "  </thead>\n",
       "  <tbody>\n",
       "    <tr>\n",
       "      <th>0</th>\n",
       "      <td>ACURA TL</td>\n",
       "      <td>3.2</td>\n",
       "      <td>(6 cyl)</td>\n",
       "      <td>Auto-S5</td>\n",
       "      <td>2WD</td>\n",
       "      <td>Gasoline</td>\n",
       "      <td>CA</td>\n",
       "      <td>U2</td>\n",
       "      <td>8HNXV03.5HKR</td>\n",
       "      <td>midsize car</td>\n",
       "      <td>7.0</td>\n",
       "      <td>18.0</td>\n",
       "      <td>26.0</td>\n",
       "      <td>21.0</td>\n",
       "      <td>6.0</td>\n",
       "      <td>yes</td>\n",
       "    </tr>\n",
       "    <tr>\n",
       "      <th>1</th>\n",
       "      <td>ACURA TL</td>\n",
       "      <td>3.5</td>\n",
       "      <td>(6 cyl)</td>\n",
       "      <td>Auto-S5</td>\n",
       "      <td>2WD</td>\n",
       "      <td>Gasoline</td>\n",
       "      <td>CA</td>\n",
       "      <td>U2</td>\n",
       "      <td>8HNXV03.5RKR</td>\n",
       "      <td>midsize car</td>\n",
       "      <td>7.0</td>\n",
       "      <td>17.0</td>\n",
       "      <td>26.0</td>\n",
       "      <td>20.0</td>\n",
       "      <td>6.0</td>\n",
       "      <td>yes</td>\n",
       "    </tr>\n",
       "    <tr>\n",
       "      <th>2</th>\n",
       "      <td>ACURA TL</td>\n",
       "      <td>3.5</td>\n",
       "      <td>(6 cyl)</td>\n",
       "      <td>Man-6</td>\n",
       "      <td>2WD</td>\n",
       "      <td>Gasoline</td>\n",
       "      <td>CA</td>\n",
       "      <td>U2</td>\n",
       "      <td>8HNXV03.5RKR</td>\n",
       "      <td>midsize car</td>\n",
       "      <td>7.0</td>\n",
       "      <td>18.0</td>\n",
       "      <td>27.0</td>\n",
       "      <td>21.0</td>\n",
       "      <td>6.0</td>\n",
       "      <td>yes</td>\n",
       "    </tr>\n",
       "    <tr>\n",
       "      <th>3</th>\n",
       "      <td>ACURA TSX</td>\n",
       "      <td>2.4</td>\n",
       "      <td>(4 cyl)</td>\n",
       "      <td>Auto-S5</td>\n",
       "      <td>2WD</td>\n",
       "      <td>Gasoline</td>\n",
       "      <td>FA</td>\n",
       "      <td>B5</td>\n",
       "      <td>8HNXV02.4FKC</td>\n",
       "      <td>small car</td>\n",
       "      <td>6.0</td>\n",
       "      <td>20.0</td>\n",
       "      <td>28.0</td>\n",
       "      <td>23.0</td>\n",
       "      <td>7.0</td>\n",
       "      <td>yes</td>\n",
       "    </tr>\n",
       "    <tr>\n",
       "      <th>4</th>\n",
       "      <td>ACURA TSX</td>\n",
       "      <td>2.4</td>\n",
       "      <td>(4 cyl)</td>\n",
       "      <td>Auto-S5</td>\n",
       "      <td>2WD</td>\n",
       "      <td>Gasoline</td>\n",
       "      <td>CA</td>\n",
       "      <td>L2</td>\n",
       "      <td>8HNXV02.4FKC</td>\n",
       "      <td>small car</td>\n",
       "      <td>6.0</td>\n",
       "      <td>20.0</td>\n",
       "      <td>28.0</td>\n",
       "      <td>23.0</td>\n",
       "      <td>7.0</td>\n",
       "      <td>yes</td>\n",
       "    </tr>\n",
       "  </tbody>\n",
       "</table>\n",
       "</div>"
      ],
      "text/plain": [
       "       Model  Displ      Cyl    Trans Drive      Fuel Sales Area Stnd  \\\n",
       "0   ACURA TL    3.2  (6 cyl)  Auto-S5   2WD  Gasoline         CA   U2   \n",
       "1   ACURA TL    3.5  (6 cyl)  Auto-S5   2WD  Gasoline         CA   U2   \n",
       "2   ACURA TL    3.5  (6 cyl)    Man-6   2WD  Gasoline         CA   U2   \n",
       "3  ACURA TSX    2.4  (4 cyl)  Auto-S5   2WD  Gasoline         FA   B5   \n",
       "4  ACURA TSX    2.4  (4 cyl)  Auto-S5   2WD  Gasoline         CA   L2   \n",
       "\n",
       "   Underhood ID    Veh Class  Air Pollution Score  City MPG  Hwy MPG  Cmb MPG  \\\n",
       "0  8HNXV03.5HKR  midsize car                  7.0      18.0     26.0     21.0   \n",
       "1  8HNXV03.5RKR  midsize car                  7.0      17.0     26.0     20.0   \n",
       "2  8HNXV03.5RKR  midsize car                  7.0      18.0     27.0     21.0   \n",
       "3  8HNXV02.4FKC    small car                  6.0      20.0     28.0     23.0   \n",
       "4  8HNXV02.4FKC    small car                  6.0      20.0     28.0     23.0   \n",
       "\n",
       "   Greenhouse Gas Score SmartWay  \n",
       "0                   6.0      yes  \n",
       "1                   6.0      yes  \n",
       "2                   6.0      yes  \n",
       "3                   7.0      yes  \n",
       "4                   7.0      yes  "
      ]
     },
     "execution_count": 10,
     "metadata": {},
     "output_type": "execute_result"
    }
   ],
   "source": [
    "df_08.head()"
   ]
  },
  {
   "cell_type": "code",
   "execution_count": 11,
   "id": "303cba48",
   "metadata": {},
   "outputs": [
    {
     "data": {
      "text/html": [
       "<div>\n",
       "<style scoped>\n",
       "    .dataframe tbody tr th:only-of-type {\n",
       "        vertical-align: middle;\n",
       "    }\n",
       "\n",
       "    .dataframe tbody tr th {\n",
       "        vertical-align: top;\n",
       "    }\n",
       "\n",
       "    .dataframe thead th {\n",
       "        text-align: right;\n",
       "    }\n",
       "</style>\n",
       "<table border=\"1\" class=\"dataframe\">\n",
       "  <thead>\n",
       "    <tr style=\"text-align: right;\">\n",
       "      <th></th>\n",
       "      <th>Model</th>\n",
       "      <th>Displ</th>\n",
       "      <th>Cyl</th>\n",
       "      <th>Trans</th>\n",
       "      <th>Drive</th>\n",
       "      <th>Fuel</th>\n",
       "      <th>Sales Area</th>\n",
       "      <th>Stnd</th>\n",
       "      <th>Stnd Description</th>\n",
       "      <th>Underhood ID</th>\n",
       "      <th>Veh Class</th>\n",
       "      <th>Smog Rating</th>\n",
       "      <th>City MPG</th>\n",
       "      <th>Hwy MPG</th>\n",
       "      <th>Cmb MPG</th>\n",
       "      <th>Greenhouse Gas Score</th>\n",
       "      <th>SmartWay</th>\n",
       "    </tr>\n",
       "  </thead>\n",
       "  <tbody>\n",
       "    <tr>\n",
       "      <th>0</th>\n",
       "      <td>AUDI A3 e-tron</td>\n",
       "      <td>1.4</td>\n",
       "      <td>4.0</td>\n",
       "      <td>AMS-6</td>\n",
       "      <td>2WD</td>\n",
       "      <td>Gasoline/Electricity</td>\n",
       "      <td>CA</td>\n",
       "      <td>L3SULEV30</td>\n",
       "      <td>California LEV-III SULEV30</td>\n",
       "      <td>JVGAV01.4V3B</td>\n",
       "      <td>small car</td>\n",
       "      <td>7</td>\n",
       "      <td>34/81</td>\n",
       "      <td>39/86</td>\n",
       "      <td>36/83</td>\n",
       "      <td>10</td>\n",
       "      <td>Elite</td>\n",
       "    </tr>\n",
       "    <tr>\n",
       "      <th>1</th>\n",
       "      <td>AUDI A3 e-tron</td>\n",
       "      <td>1.4</td>\n",
       "      <td>4.0</td>\n",
       "      <td>AMS-6</td>\n",
       "      <td>2WD</td>\n",
       "      <td>Gasoline/Electricity</td>\n",
       "      <td>FA</td>\n",
       "      <td>T3B30</td>\n",
       "      <td>Federal Tier 3 Bin 30</td>\n",
       "      <td>JVGAV01.4V3B</td>\n",
       "      <td>small car</td>\n",
       "      <td>7</td>\n",
       "      <td>34/81</td>\n",
       "      <td>39/86</td>\n",
       "      <td>36/83</td>\n",
       "      <td>10</td>\n",
       "      <td>Elite</td>\n",
       "    </tr>\n",
       "    <tr>\n",
       "      <th>2</th>\n",
       "      <td>AUDI A4 Ultra</td>\n",
       "      <td>2.0</td>\n",
       "      <td>4.0</td>\n",
       "      <td>AMS-7</td>\n",
       "      <td>2WD</td>\n",
       "      <td>Gasoline</td>\n",
       "      <td>CA</td>\n",
       "      <td>L3ULEV125</td>\n",
       "      <td>California LEV-III ULEV125</td>\n",
       "      <td>JVGAJ02.0AAC</td>\n",
       "      <td>small car</td>\n",
       "      <td>3</td>\n",
       "      <td>27</td>\n",
       "      <td>37</td>\n",
       "      <td>31</td>\n",
       "      <td>7</td>\n",
       "      <td>Yes</td>\n",
       "    </tr>\n",
       "    <tr>\n",
       "      <th>3</th>\n",
       "      <td>AUDI A4 Ultra</td>\n",
       "      <td>2.0</td>\n",
       "      <td>4.0</td>\n",
       "      <td>AMS-7</td>\n",
       "      <td>2WD</td>\n",
       "      <td>Gasoline</td>\n",
       "      <td>FA</td>\n",
       "      <td>T3B125</td>\n",
       "      <td>Federal Tier 3 Bin 125</td>\n",
       "      <td>JVGAJ02.0AAC</td>\n",
       "      <td>small car</td>\n",
       "      <td>3</td>\n",
       "      <td>27</td>\n",
       "      <td>37</td>\n",
       "      <td>31</td>\n",
       "      <td>7</td>\n",
       "      <td>Yes</td>\n",
       "    </tr>\n",
       "    <tr>\n",
       "      <th>4</th>\n",
       "      <td>BMW 328d</td>\n",
       "      <td>2.0</td>\n",
       "      <td>4.0</td>\n",
       "      <td>SemiAuto-8</td>\n",
       "      <td>2WD</td>\n",
       "      <td>Diesel</td>\n",
       "      <td>FA</td>\n",
       "      <td>T3B125</td>\n",
       "      <td>Federal Tier 3 Bin 125</td>\n",
       "      <td>JBMXV02.0N47</td>\n",
       "      <td>small car</td>\n",
       "      <td>3</td>\n",
       "      <td>31</td>\n",
       "      <td>43</td>\n",
       "      <td>36</td>\n",
       "      <td>7</td>\n",
       "      <td>Yes</td>\n",
       "    </tr>\n",
       "  </tbody>\n",
       "</table>\n",
       "</div>"
      ],
      "text/plain": [
       "            Model  Displ  Cyl       Trans Drive                  Fuel  \\\n",
       "0  AUDI A3 e-tron    1.4  4.0       AMS-6   2WD  Gasoline/Electricity   \n",
       "1  AUDI A3 e-tron    1.4  4.0       AMS-6   2WD  Gasoline/Electricity   \n",
       "2   AUDI A4 Ultra    2.0  4.0       AMS-7   2WD              Gasoline   \n",
       "3   AUDI A4 Ultra    2.0  4.0       AMS-7   2WD              Gasoline   \n",
       "4        BMW 328d    2.0  4.0  SemiAuto-8   2WD                Diesel   \n",
       "\n",
       "  Sales Area       Stnd            Stnd Description  Underhood ID  Veh Class  \\\n",
       "0         CA  L3SULEV30  California LEV-III SULEV30  JVGAV01.4V3B  small car   \n",
       "1         FA      T3B30       Federal Tier 3 Bin 30  JVGAV01.4V3B  small car   \n",
       "2         CA  L3ULEV125  California LEV-III ULEV125  JVGAJ02.0AAC  small car   \n",
       "3         FA     T3B125      Federal Tier 3 Bin 125  JVGAJ02.0AAC  small car   \n",
       "4         FA     T3B125      Federal Tier 3 Bin 125  JBMXV02.0N47  small car   \n",
       "\n",
       "   Smog Rating City MPG Hwy MPG Cmb MPG  Greenhouse Gas Score SmartWay  \n",
       "0            7    34/81   39/86   36/83                    10    Elite  \n",
       "1            7    34/81   39/86   36/83                    10    Elite  \n",
       "2            3       27      37      31                     7      Yes  \n",
       "3            3       27      37      31                     7      Yes  \n",
       "4            3       31      43      36                     7      Yes  "
      ]
     },
     "execution_count": 11,
     "metadata": {},
     "output_type": "execute_result"
    }
   ],
   "source": [
    "df_18.head()"
   ]
  },
  {
   "cell_type": "code",
   "execution_count": 12,
   "id": "d1c2f9b1",
   "metadata": {},
   "outputs": [
    {
     "name": "stdout",
     "output_type": "stream",
     "text": [
      "<class 'pandas.core.frame.DataFrame'>\n",
      "RangeIndex: 2404 entries, 0 to 2403\n",
      "Data columns (total 16 columns):\n",
      " #   Column                Non-Null Count  Dtype  \n",
      "---  ------                --------------  -----  \n",
      " 0   Model                 638 non-null    object \n",
      " 1   Displ                 638 non-null    float64\n",
      " 2   Cyl                   638 non-null    object \n",
      " 3   Trans                 638 non-null    object \n",
      " 4   Drive                 638 non-null    object \n",
      " 5   Fuel                  638 non-null    object \n",
      " 6   Sales Area            638 non-null    object \n",
      " 7   Stnd                  638 non-null    object \n",
      " 8   Underhood ID          638 non-null    object \n",
      " 9   Veh Class             638 non-null    object \n",
      " 10  Air Pollution Score   638 non-null    float64\n",
      " 11  City MPG              638 non-null    float64\n",
      " 12  Hwy MPG               638 non-null    float64\n",
      " 13  Cmb MPG               638 non-null    float64\n",
      " 14  Greenhouse Gas Score  638 non-null    float64\n",
      " 15  SmartWay              638 non-null    object \n",
      "dtypes: float64(6), object(10)\n",
      "memory usage: 300.6+ KB\n",
      "<class 'pandas.core.frame.DataFrame'>\n",
      "RangeIndex: 417 entries, 0 to 416\n",
      "Data columns (total 17 columns):\n",
      " #   Column                Non-Null Count  Dtype  \n",
      "---  ------                --------------  -----  \n",
      " 0   Model                 417 non-null    object \n",
      " 1   Displ                 367 non-null    float64\n",
      " 2   Cyl                   367 non-null    float64\n",
      " 3   Trans                 417 non-null    object \n",
      " 4   Drive                 417 non-null    object \n",
      " 5   Fuel                  417 non-null    object \n",
      " 6   Sales Area            417 non-null    object \n",
      " 7   Stnd                  417 non-null    object \n",
      " 8   Stnd Description      417 non-null    object \n",
      " 9   Underhood ID          417 non-null    object \n",
      " 10  Veh Class             417 non-null    object \n",
      " 11  Smog Rating           417 non-null    int64  \n",
      " 12  City MPG              417 non-null    object \n",
      " 13  Hwy MPG               417 non-null    object \n",
      " 14  Cmb MPG               417 non-null    object \n",
      " 15  Greenhouse Gas Score  417 non-null    int64  \n",
      " 16  SmartWay              417 non-null    object \n",
      "dtypes: float64(2), int64(2), object(13)\n",
      "memory usage: 55.5+ KB\n"
     ]
    },
    {
     "data": {
      "text/plain": [
       "(None, None)"
      ]
     },
     "execution_count": 12,
     "metadata": {},
     "output_type": "execute_result"
    }
   ],
   "source": [
    "# datatypes of columns\n",
    "df_08.info(), df_18.info()"
   ]
  },
  {
   "cell_type": "code",
   "execution_count": 13,
   "id": "e4969f5d",
   "metadata": {},
   "outputs": [
    {
     "data": {
      "text/html": [
       "<div>\n",
       "<style scoped>\n",
       "    .dataframe tbody tr th:only-of-type {\n",
       "        vertical-align: middle;\n",
       "    }\n",
       "\n",
       "    .dataframe tbody tr th {\n",
       "        vertical-align: top;\n",
       "    }\n",
       "\n",
       "    .dataframe thead th {\n",
       "        text-align: right;\n",
       "    }\n",
       "</style>\n",
       "<table border=\"1\" class=\"dataframe\">\n",
       "  <thead>\n",
       "    <tr style=\"text-align: right;\">\n",
       "      <th></th>\n",
       "      <th>Displ</th>\n",
       "      <th>Air Pollution Score</th>\n",
       "      <th>City MPG</th>\n",
       "      <th>Hwy MPG</th>\n",
       "      <th>Cmb MPG</th>\n",
       "      <th>Greenhouse Gas Score</th>\n",
       "    </tr>\n",
       "  </thead>\n",
       "  <tbody>\n",
       "    <tr>\n",
       "      <th>count</th>\n",
       "      <td>638.000000</td>\n",
       "      <td>638.000000</td>\n",
       "      <td>638.000000</td>\n",
       "      <td>638.000000</td>\n",
       "      <td>638.000000</td>\n",
       "      <td>638.000000</td>\n",
       "    </tr>\n",
       "    <tr>\n",
       "      <th>mean</th>\n",
       "      <td>2.497962</td>\n",
       "      <td>6.982759</td>\n",
       "      <td>21.443574</td>\n",
       "      <td>28.871473</td>\n",
       "      <td>24.188088</td>\n",
       "      <td>7.023511</td>\n",
       "    </tr>\n",
       "    <tr>\n",
       "      <th>std</th>\n",
       "      <td>0.582108</td>\n",
       "      <td>1.138943</td>\n",
       "      <td>3.470772</td>\n",
       "      <td>3.078120</td>\n",
       "      <td>3.065335</td>\n",
       "      <td>0.797019</td>\n",
       "    </tr>\n",
       "    <tr>\n",
       "      <th>min</th>\n",
       "      <td>1.300000</td>\n",
       "      <td>6.000000</td>\n",
       "      <td>17.000000</td>\n",
       "      <td>22.000000</td>\n",
       "      <td>20.000000</td>\n",
       "      <td>6.000000</td>\n",
       "    </tr>\n",
       "    <tr>\n",
       "      <th>25%</th>\n",
       "      <td>2.000000</td>\n",
       "      <td>6.000000</td>\n",
       "      <td>20.000000</td>\n",
       "      <td>27.000000</td>\n",
       "      <td>22.000000</td>\n",
       "      <td>6.000000</td>\n",
       "    </tr>\n",
       "    <tr>\n",
       "      <th>50%</th>\n",
       "      <td>2.400000</td>\n",
       "      <td>7.000000</td>\n",
       "      <td>21.000000</td>\n",
       "      <td>29.000000</td>\n",
       "      <td>24.000000</td>\n",
       "      <td>7.000000</td>\n",
       "    </tr>\n",
       "    <tr>\n",
       "      <th>75%</th>\n",
       "      <td>2.900000</td>\n",
       "      <td>7.000000</td>\n",
       "      <td>22.000000</td>\n",
       "      <td>31.000000</td>\n",
       "      <td>25.000000</td>\n",
       "      <td>7.000000</td>\n",
       "    </tr>\n",
       "    <tr>\n",
       "      <th>max</th>\n",
       "      <td>5.000000</td>\n",
       "      <td>9.500000</td>\n",
       "      <td>48.000000</td>\n",
       "      <td>45.000000</td>\n",
       "      <td>46.000000</td>\n",
       "      <td>10.000000</td>\n",
       "    </tr>\n",
       "  </tbody>\n",
       "</table>\n",
       "</div>"
      ],
      "text/plain": [
       "            Displ  Air Pollution Score    City MPG     Hwy MPG     Cmb MPG  \\\n",
       "count  638.000000           638.000000  638.000000  638.000000  638.000000   \n",
       "mean     2.497962             6.982759   21.443574   28.871473   24.188088   \n",
       "std      0.582108             1.138943    3.470772    3.078120    3.065335   \n",
       "min      1.300000             6.000000   17.000000   22.000000   20.000000   \n",
       "25%      2.000000             6.000000   20.000000   27.000000   22.000000   \n",
       "50%      2.400000             7.000000   21.000000   29.000000   24.000000   \n",
       "75%      2.900000             7.000000   22.000000   31.000000   25.000000   \n",
       "max      5.000000             9.500000   48.000000   45.000000   46.000000   \n",
       "\n",
       "       Greenhouse Gas Score  \n",
       "count            638.000000  \n",
       "mean               7.023511  \n",
       "std                0.797019  \n",
       "min                6.000000  \n",
       "25%                6.000000  \n",
       "50%                7.000000  \n",
       "75%                7.000000  \n",
       "max               10.000000  "
      ]
     },
     "execution_count": 13,
     "metadata": {},
     "output_type": "execute_result"
    }
   ],
   "source": [
    "df_08.describe()"
   ]
  },
  {
   "cell_type": "code",
   "execution_count": 14,
   "id": "aa8135d4",
   "metadata": {},
   "outputs": [
    {
     "data": {
      "text/html": [
       "<div>\n",
       "<style scoped>\n",
       "    .dataframe tbody tr th:only-of-type {\n",
       "        vertical-align: middle;\n",
       "    }\n",
       "\n",
       "    .dataframe tbody tr th {\n",
       "        vertical-align: top;\n",
       "    }\n",
       "\n",
       "    .dataframe thead th {\n",
       "        text-align: right;\n",
       "    }\n",
       "</style>\n",
       "<table border=\"1\" class=\"dataframe\">\n",
       "  <thead>\n",
       "    <tr style=\"text-align: right;\">\n",
       "      <th></th>\n",
       "      <th>Model</th>\n",
       "      <th>Cyl</th>\n",
       "      <th>Trans</th>\n",
       "      <th>Drive</th>\n",
       "      <th>Fuel</th>\n",
       "      <th>Sales Area</th>\n",
       "      <th>Stnd</th>\n",
       "      <th>Underhood ID</th>\n",
       "      <th>Veh Class</th>\n",
       "      <th>SmartWay</th>\n",
       "    </tr>\n",
       "  </thead>\n",
       "  <tbody>\n",
       "    <tr>\n",
       "      <th>count</th>\n",
       "      <td>638</td>\n",
       "      <td>638</td>\n",
       "      <td>638</td>\n",
       "      <td>638</td>\n",
       "      <td>638</td>\n",
       "      <td>638</td>\n",
       "      <td>638</td>\n",
       "      <td>638</td>\n",
       "      <td>638</td>\n",
       "      <td>638</td>\n",
       "    </tr>\n",
       "    <tr>\n",
       "      <th>unique</th>\n",
       "      <td>170</td>\n",
       "      <td>4</td>\n",
       "      <td>12</td>\n",
       "      <td>2</td>\n",
       "      <td>2</td>\n",
       "      <td>3</td>\n",
       "      <td>8</td>\n",
       "      <td>128</td>\n",
       "      <td>7</td>\n",
       "      <td>1</td>\n",
       "    </tr>\n",
       "    <tr>\n",
       "      <th>top</th>\n",
       "      <td>HONDA Accord</td>\n",
       "      <td>(4 cyl)</td>\n",
       "      <td>Man-5</td>\n",
       "      <td>2WD</td>\n",
       "      <td>Gasoline</td>\n",
       "      <td>CA</td>\n",
       "      <td>U2</td>\n",
       "      <td>8BMXB03.0N52</td>\n",
       "      <td>small car</td>\n",
       "      <td>yes</td>\n",
       "    </tr>\n",
       "    <tr>\n",
       "      <th>freq</th>\n",
       "      <td>19</td>\n",
       "      <td>395</td>\n",
       "      <td>165</td>\n",
       "      <td>571</td>\n",
       "      <td>636</td>\n",
       "      <td>382</td>\n",
       "      <td>251</td>\n",
       "      <td>38</td>\n",
       "      <td>314</td>\n",
       "      <td>638</td>\n",
       "    </tr>\n",
       "  </tbody>\n",
       "</table>\n",
       "</div>"
      ],
      "text/plain": [
       "               Model      Cyl  Trans Drive      Fuel Sales Area Stnd  \\\n",
       "count            638      638    638   638       638        638  638   \n",
       "unique           170        4     12     2         2          3    8   \n",
       "top     HONDA Accord  (4 cyl)  Man-5   2WD  Gasoline         CA   U2   \n",
       "freq              19      395    165   571       636        382  251   \n",
       "\n",
       "        Underhood ID  Veh Class SmartWay  \n",
       "count            638        638      638  \n",
       "unique           128          7        1  \n",
       "top     8BMXB03.0N52  small car      yes  \n",
       "freq              38        314      638  "
      ]
     },
     "execution_count": 14,
     "metadata": {},
     "output_type": "execute_result"
    }
   ],
   "source": [
    "df_08.describe(include=object)"
   ]
  },
  {
   "cell_type": "code",
   "execution_count": 29,
   "id": "f779ac41",
   "metadata": {},
   "outputs": [
    {
     "data": {
      "text/html": [
       "<div>\n",
       "<style scoped>\n",
       "    .dataframe tbody tr th:only-of-type {\n",
       "        vertical-align: middle;\n",
       "    }\n",
       "\n",
       "    .dataframe tbody tr th {\n",
       "        vertical-align: top;\n",
       "    }\n",
       "\n",
       "    .dataframe thead th {\n",
       "        text-align: right;\n",
       "    }\n",
       "</style>\n",
       "<table border=\"1\" class=\"dataframe\">\n",
       "  <thead>\n",
       "    <tr style=\"text-align: right;\">\n",
       "      <th></th>\n",
       "      <th>Displ</th>\n",
       "      <th>Cyl</th>\n",
       "      <th>Smog Rating</th>\n",
       "      <th>Greenhouse Gas Score</th>\n",
       "    </tr>\n",
       "  </thead>\n",
       "  <tbody>\n",
       "    <tr>\n",
       "      <th>count</th>\n",
       "      <td>367.000000</td>\n",
       "      <td>367.000000</td>\n",
       "      <td>417.000000</td>\n",
       "      <td>417.000000</td>\n",
       "    </tr>\n",
       "    <tr>\n",
       "      <th>mean</th>\n",
       "      <td>1.843869</td>\n",
       "      <td>4.087193</td>\n",
       "      <td>5.757794</td>\n",
       "      <td>8.194245</td>\n",
       "    </tr>\n",
       "    <tr>\n",
       "      <th>std</th>\n",
       "      <td>0.560015</td>\n",
       "      <td>0.763243</td>\n",
       "      <td>2.311415</td>\n",
       "      <td>1.255053</td>\n",
       "    </tr>\n",
       "    <tr>\n",
       "      <th>min</th>\n",
       "      <td>0.600000</td>\n",
       "      <td>2.000000</td>\n",
       "      <td>3.000000</td>\n",
       "      <td>7.000000</td>\n",
       "    </tr>\n",
       "    <tr>\n",
       "      <th>25%</th>\n",
       "      <td>1.500000</td>\n",
       "      <td>4.000000</td>\n",
       "      <td>3.000000</td>\n",
       "      <td>7.000000</td>\n",
       "    </tr>\n",
       "    <tr>\n",
       "      <th>50%</th>\n",
       "      <td>1.600000</td>\n",
       "      <td>4.000000</td>\n",
       "      <td>6.000000</td>\n",
       "      <td>8.000000</td>\n",
       "    </tr>\n",
       "    <tr>\n",
       "      <th>75%</th>\n",
       "      <td>2.000000</td>\n",
       "      <td>4.000000</td>\n",
       "      <td>7.000000</td>\n",
       "      <td>10.000000</td>\n",
       "    </tr>\n",
       "    <tr>\n",
       "      <th>max</th>\n",
       "      <td>4.000000</td>\n",
       "      <td>8.000000</td>\n",
       "      <td>10.000000</td>\n",
       "      <td>10.000000</td>\n",
       "    </tr>\n",
       "  </tbody>\n",
       "</table>\n",
       "</div>"
      ],
      "text/plain": [
       "            Displ         Cyl  Smog Rating  Greenhouse Gas Score\n",
       "count  367.000000  367.000000   417.000000            417.000000\n",
       "mean     1.843869    4.087193     5.757794              8.194245\n",
       "std      0.560015    0.763243     2.311415              1.255053\n",
       "min      0.600000    2.000000     3.000000              7.000000\n",
       "25%      1.500000    4.000000     3.000000              7.000000\n",
       "50%      1.600000    4.000000     6.000000              8.000000\n",
       "75%      2.000000    4.000000     7.000000             10.000000\n",
       "max      4.000000    8.000000    10.000000             10.000000"
      ]
     },
     "execution_count": 29,
     "metadata": {},
     "output_type": "execute_result"
    }
   ],
   "source": [
    "df_18.describe()"
   ]
  },
  {
   "cell_type": "code",
   "execution_count": 30,
   "id": "0b669e0c",
   "metadata": {},
   "outputs": [
    {
     "data": {
      "text/html": [
       "<div>\n",
       "<style scoped>\n",
       "    .dataframe tbody tr th:only-of-type {\n",
       "        vertical-align: middle;\n",
       "    }\n",
       "\n",
       "    .dataframe tbody tr th {\n",
       "        vertical-align: top;\n",
       "    }\n",
       "\n",
       "    .dataframe thead th {\n",
       "        text-align: right;\n",
       "    }\n",
       "</style>\n",
       "<table border=\"1\" class=\"dataframe\">\n",
       "  <thead>\n",
       "    <tr style=\"text-align: right;\">\n",
       "      <th></th>\n",
       "      <th>Model</th>\n",
       "      <th>Trans</th>\n",
       "      <th>Drive</th>\n",
       "      <th>Fuel</th>\n",
       "      <th>Sales Area</th>\n",
       "      <th>Stnd</th>\n",
       "      <th>Stnd Description</th>\n",
       "      <th>Underhood ID</th>\n",
       "      <th>Veh Class</th>\n",
       "      <th>City MPG</th>\n",
       "      <th>Hwy MPG</th>\n",
       "      <th>Cmb MPG</th>\n",
       "      <th>SmartWay</th>\n",
       "    </tr>\n",
       "  </thead>\n",
       "  <tbody>\n",
       "    <tr>\n",
       "      <th>count</th>\n",
       "      <td>417</td>\n",
       "      <td>417</td>\n",
       "      <td>417</td>\n",
       "      <td>417</td>\n",
       "      <td>417</td>\n",
       "      <td>417</td>\n",
       "      <td>417</td>\n",
       "      <td>417</td>\n",
       "      <td>417</td>\n",
       "      <td>417</td>\n",
       "      <td>417</td>\n",
       "      <td>417</td>\n",
       "      <td>417</td>\n",
       "    </tr>\n",
       "    <tr>\n",
       "      <th>unique</th>\n",
       "      <td>133</td>\n",
       "      <td>21</td>\n",
       "      <td>2</td>\n",
       "      <td>5</td>\n",
       "      <td>2</td>\n",
       "      <td>16</td>\n",
       "      <td>16</td>\n",
       "      <td>114</td>\n",
       "      <td>7</td>\n",
       "      <td>76</td>\n",
       "      <td>72</td>\n",
       "      <td>68</td>\n",
       "      <td>2</td>\n",
       "    </tr>\n",
       "    <tr>\n",
       "      <th>top</th>\n",
       "      <td>HONDA Civic 2Dr</td>\n",
       "      <td>CVT</td>\n",
       "      <td>2WD</td>\n",
       "      <td>Gasoline</td>\n",
       "      <td>FA</td>\n",
       "      <td>L3SULEV30</td>\n",
       "      <td>California LEV-III SULEV30</td>\n",
       "      <td>JHNXV01.5TH2</td>\n",
       "      <td>small car</td>\n",
       "      <td>28</td>\n",
       "      <td>37</td>\n",
       "      <td>32</td>\n",
       "      <td>Yes</td>\n",
       "    </tr>\n",
       "    <tr>\n",
       "      <th>freq</th>\n",
       "      <td>14</td>\n",
       "      <td>86</td>\n",
       "      <td>351</td>\n",
       "      <td>289</td>\n",
       "      <td>209</td>\n",
       "      <td>80</td>\n",
       "      <td>80</td>\n",
       "      <td>14</td>\n",
       "      <td>151</td>\n",
       "      <td>72</td>\n",
       "      <td>46</td>\n",
       "      <td>60</td>\n",
       "      <td>309</td>\n",
       "    </tr>\n",
       "  </tbody>\n",
       "</table>\n",
       "</div>"
      ],
      "text/plain": [
       "                  Model Trans Drive      Fuel Sales Area       Stnd  \\\n",
       "count               417   417   417       417        417        417   \n",
       "unique              133    21     2         5          2         16   \n",
       "top     HONDA Civic 2Dr   CVT   2WD  Gasoline         FA  L3SULEV30   \n",
       "freq                 14    86   351       289        209         80   \n",
       "\n",
       "                  Stnd Description  Underhood ID  Veh Class City MPG Hwy MPG  \\\n",
       "count                          417           417        417      417     417   \n",
       "unique                          16           114          7       76      72   \n",
       "top     California LEV-III SULEV30  JHNXV01.5TH2  small car       28      37   \n",
       "freq                            80            14        151       72      46   \n",
       "\n",
       "       Cmb MPG SmartWay  \n",
       "count      417      417  \n",
       "unique      68        2  \n",
       "top         32      Yes  \n",
       "freq        60      309  "
      ]
     },
     "execution_count": 30,
     "metadata": {},
     "output_type": "execute_result"
    }
   ],
   "source": [
    "df_18.describe(include=object)"
   ]
  },
  {
   "cell_type": "code",
   "execution_count": 17,
   "id": "609b64e1",
   "metadata": {},
   "outputs": [
    {
     "data": {
      "text/plain": [
       "Model                   1766\n",
       "Displ                   1766\n",
       "Cyl                     1766\n",
       "Trans                   1766\n",
       "Drive                   1766\n",
       "Fuel                    1766\n",
       "Sales Area              1766\n",
       "Stnd                    1766\n",
       "Underhood ID            1766\n",
       "Veh Class               1766\n",
       "Air Pollution Score     1766\n",
       "City MPG                1766\n",
       "Hwy MPG                 1766\n",
       "Cmb MPG                 1766\n",
       "Greenhouse Gas Score    1766\n",
       "SmartWay                1766\n",
       "dtype: int64"
      ]
     },
     "execution_count": 17,
     "metadata": {},
     "output_type": "execute_result"
    }
   ],
   "source": [
    "df_08.isnull().sum()"
   ]
  },
  {
   "cell_type": "code",
   "execution_count": 20,
   "id": "7b9b1bab",
   "metadata": {},
   "outputs": [],
   "source": [
    "df_08.dropna(inplace=True)"
   ]
  },
  {
   "cell_type": "code",
   "execution_count": 21,
   "id": "87c453d3",
   "metadata": {},
   "outputs": [
    {
     "data": {
      "text/plain": [
       "Model                   0\n",
       "Displ                   0\n",
       "Cyl                     0\n",
       "Trans                   0\n",
       "Drive                   0\n",
       "Fuel                    0\n",
       "Sales Area              0\n",
       "Stnd                    0\n",
       "Underhood ID            0\n",
       "Veh Class               0\n",
       "Air Pollution Score     0\n",
       "City MPG                0\n",
       "Hwy MPG                 0\n",
       "Cmb MPG                 0\n",
       "Greenhouse Gas Score    0\n",
       "SmartWay                0\n",
       "dtype: int64"
      ]
     },
     "execution_count": 21,
     "metadata": {},
     "output_type": "execute_result"
    }
   ],
   "source": [
    "df_08.isnull().sum()"
   ]
  },
  {
   "cell_type": "code",
   "execution_count": 31,
   "id": "6a911fb3",
   "metadata": {},
   "outputs": [
    {
     "data": {
      "text/plain": [
       "Model                    0\n",
       "Displ                   50\n",
       "Cyl                     50\n",
       "Trans                    0\n",
       "Drive                    0\n",
       "Fuel                     0\n",
       "Sales Area               0\n",
       "Stnd                     0\n",
       "Stnd Description         0\n",
       "Underhood ID             0\n",
       "Veh Class                0\n",
       "Smog Rating              0\n",
       "City MPG                 0\n",
       "Hwy MPG                  0\n",
       "Cmb MPG                  0\n",
       "Greenhouse Gas Score     0\n",
       "SmartWay                 0\n",
       "dtype: int64"
      ]
     },
     "execution_count": 31,
     "metadata": {},
     "output_type": "execute_result"
    }
   ],
   "source": [
    "df_18.isnull().sum()"
   ]
  },
  {
   "cell_type": "markdown",
   "id": "9bae7c64",
   "metadata": {},
   "source": [
    "## Data Cleaning"
   ]
  },
  {
   "cell_type": "code",
   "execution_count": 23,
   "id": "ff4dae15",
   "metadata": {},
   "outputs": [],
   "source": [
    "df_08.drop([\"Stnd\",\"Underhood ID\"], axis=1, inplace=True)"
   ]
  },
  {
   "cell_type": "code",
   "execution_count": 32,
   "id": "f757959c",
   "metadata": {},
   "outputs": [],
   "source": [
    "df_18.drop([\"Stnd\",\"Stnd Description\",\"Underhood ID\",], axis=1, inplace=True)"
   ]
  },
  {
   "cell_type": "code",
   "execution_count": 33,
   "id": "76e784c8",
   "metadata": {},
   "outputs": [
    {
     "data": {
      "text/plain": [
       "(638, 14)"
      ]
     },
     "execution_count": 33,
     "metadata": {},
     "output_type": "execute_result"
    }
   ],
   "source": [
    "df_08.shape"
   ]
  },
  {
   "cell_type": "code",
   "execution_count": 34,
   "id": "fdd422ab",
   "metadata": {},
   "outputs": [
    {
     "data": {
      "text/plain": [
       "(417, 14)"
      ]
     },
     "execution_count": 34,
     "metadata": {},
     "output_type": "execute_result"
    }
   ],
   "source": [
    "df_18.shape"
   ]
  },
  {
   "cell_type": "code",
   "execution_count": 35,
   "id": "734c5ecb",
   "metadata": {},
   "outputs": [],
   "source": [
    "df_18.rename(columns={\"Smog Rating\":\"Air Pollution Score\"},inplace=True)"
   ]
  },
  {
   "cell_type": "code",
   "execution_count": 36,
   "id": "92bb80e7",
   "metadata": {},
   "outputs": [
    {
     "name": "stdout",
     "output_type": "stream",
     "text": [
      "<class 'pandas.core.frame.DataFrame'>\n",
      "Int64Index: 638 entries, 0 to 637\n",
      "Data columns (total 14 columns):\n",
      " #   Column                Non-Null Count  Dtype  \n",
      "---  ------                --------------  -----  \n",
      " 0   Model                 638 non-null    object \n",
      " 1   Displ                 638 non-null    float64\n",
      " 2   Cyl                   638 non-null    object \n",
      " 3   Trans                 638 non-null    object \n",
      " 4   Drive                 638 non-null    object \n",
      " 5   Fuel                  638 non-null    object \n",
      " 6   Sales Area            638 non-null    object \n",
      " 7   Veh Class             638 non-null    object \n",
      " 8   Air Pollution Score   638 non-null    float64\n",
      " 9   City MPG              638 non-null    float64\n",
      " 10  Hwy MPG               638 non-null    float64\n",
      " 11  Cmb MPG               638 non-null    float64\n",
      " 12  Greenhouse Gas Score  638 non-null    float64\n",
      " 13  SmartWay              638 non-null    object \n",
      "dtypes: float64(6), object(8)\n",
      "memory usage: 74.8+ KB\n"
     ]
    }
   ],
   "source": [
    "df_08.info()"
   ]
  },
  {
   "cell_type": "code",
   "execution_count": 37,
   "id": "a4acb434",
   "metadata": {},
   "outputs": [
    {
     "name": "stdout",
     "output_type": "stream",
     "text": [
      "<class 'pandas.core.frame.DataFrame'>\n",
      "RangeIndex: 417 entries, 0 to 416\n",
      "Data columns (total 14 columns):\n",
      " #   Column                Non-Null Count  Dtype  \n",
      "---  ------                --------------  -----  \n",
      " 0   Model                 417 non-null    object \n",
      " 1   Displ                 367 non-null    float64\n",
      " 2   Cyl                   367 non-null    float64\n",
      " 3   Trans                 417 non-null    object \n",
      " 4   Drive                 417 non-null    object \n",
      " 5   Fuel                  417 non-null    object \n",
      " 6   Sales Area            417 non-null    object \n",
      " 7   Veh Class             417 non-null    object \n",
      " 8   Air Pollution Score   417 non-null    int64  \n",
      " 9   City MPG              417 non-null    object \n",
      " 10  Hwy MPG               417 non-null    object \n",
      " 11  Cmb MPG               417 non-null    object \n",
      " 12  Greenhouse Gas Score  417 non-null    int64  \n",
      " 13  SmartWay              417 non-null    object \n",
      "dtypes: float64(2), int64(2), object(10)\n",
      "memory usage: 45.7+ KB\n"
     ]
    }
   ],
   "source": [
    "df_18.info()"
   ]
  },
  {
   "cell_type": "code",
   "execution_count": 39,
   "id": "ace0caf3",
   "metadata": {},
   "outputs": [
    {
     "data": {
      "text/plain": [
       "True"
      ]
     },
     "execution_count": 39,
     "metadata": {},
     "output_type": "execute_result"
    }
   ],
   "source": [
    "(df_08.columns==df_18.columns).all()"
   ]
  },
  {
   "cell_type": "code",
   "execution_count": 40,
   "id": "d0c58824",
   "metadata": {},
   "outputs": [
    {
     "name": "stdout",
     "output_type": "stream",
     "text": [
      "Model\n",
      "170\n",
      "['ACURA TL' 'ACURA TSX' 'AUDI A3' 'AUDI A4' 'AUDI TT Coupe'\n",
      " 'AUDI TT Roadster' 'BMW 328ci' 'BMW 328ci Convertible' 'BMW 328cxi'\n",
      " 'BMW 328i' 'BMW 328i Sport Wagon' 'BMW 328xi' 'BMW 328xi Sport Wagon'\n",
      " 'BMW 335ci' 'BMW 335ci Convertible' 'BMW 335i' 'BMW 528i' 'BMW 528xi'\n",
      " 'BMW 535i' 'BMW 550i' 'BMW 650ci' 'BMW 650ci Convertible' 'BMW 750i'\n",
      " 'BMW 750li' 'BMW X3' 'BMW Z4' 'BMW Z4 Coupe' 'BUICK Allure'\n",
      " 'BUICK LaCrosse' 'CHEVROLET Aveo' 'CHEVROLET Aveo 5' 'CHEVROLET Classic'\n",
      " 'CHEVROLET Cobalt' 'CHEVROLET Colorado' 'CHEVROLET HHR'\n",
      " 'CHEVROLET Impala' 'CHEVROLET Malibu' 'CHEVROLET Malibu Hybrid'\n",
      " 'CHRYSLER 300' 'CHRYSLER PT Cruiser' 'CHRYSLER PT Cruiser Convertible'\n",
      " 'CHRYSLER SRT-8' 'CHRYSLER Sebring' 'CHRYSLER Sebring Convertible'\n",
      " 'DODGE Avenger' 'DODGE Caliber' 'DODGE Charger' 'DODGE Magnum'\n",
      " 'FORD Escape' 'FORD Escape Hybrid' 'FORD Focus' 'FORD Fusion'\n",
      " 'FORD Mustang' 'FORD Ranger' 'FORD Taurus' 'GMC Canyon' 'HONDA Accord'\n",
      " 'HONDA CR-V' 'HONDA Civic' 'HONDA Civic Hybrid' 'HONDA Fit'\n",
      " 'HYUNDAI Accent' 'HYUNDAI Azera' 'HYUNDAI Elantra' 'HYUNDAI Santa Fe'\n",
      " 'HYUNDAI Sonata' 'HYUNDAI Tiburon' 'HYUNDAI Tucson' 'INFINITI G35'\n",
      " 'INFINITI G37' 'ISUZU I-290' 'JEEP Compass' 'JEEP Patriot' 'KIA Optima'\n",
      " 'KIA Rio' 'KIA Rondo' 'KIA Spectra' 'KIA Sportage' 'LEXUS ES 350'\n",
      " 'LEXUS GS 350' 'LEXUS GS 450h' 'LEXUS GS 460' 'LEXUS IS 250'\n",
      " 'LEXUS IS 350' 'LEXUS LS 600HL' 'LEXUS RX 350' 'LEXUS RX 400H'\n",
      " 'LINCOLN MKZ' 'MAZDA 3' 'MAZDA 5' 'MAZDA 6' 'MAZDA B2300' 'MAZDA MX-5'\n",
      " 'MAZDA Tribute' 'MAZDA Tribute Hybrid' 'MERCEDES-BENZ C300'\n",
      " 'MERCEDES-BENZ C350' 'MERCEDES-BENZ CLK350'\n",
      " 'MERCEDES-BENZ CLK350 Cabriolet' 'MERCEDES-BENZ SLK280'\n",
      " 'MERCURY Mariner Hybrid' 'MERCURY Milan' 'MERCURY Sable'\n",
      " 'MINI Mini Cooper Convertible' 'MINI Mini Cooper S Convertible'\n",
      " 'MITSUBISHI Eclipse' 'MITSUBISHI Eclipse Spyder' 'MITSUBISHI Galant'\n",
      " 'MITSUBISHI Lancer' 'MITSUBISHI Outlander' 'NISSAN 350Z'\n",
      " 'NISSAN 350Z Roadster' 'NISSAN Altima' 'NISSAN Altima Hybrid'\n",
      " 'NISSAN Frontier' 'NISSAN Maxima' 'NISSAN Rogue' 'NISSAN Sentra'\n",
      " 'NISSAN Versa' 'PONTIAC G5' 'PONTIAC G6' 'PONTIAC Grand Prix'\n",
      " 'PONTIAC Pursuit' 'PONTIAC Vibe' 'PORSCHE Boxster' 'PORSCHE Boxster S'\n",
      " 'PORSCHE Cayman' 'PORSCHE Cayman S' 'SAAB 9-3 Sport Sedan'\n",
      " 'SAAB 9-3 Sportcombi' 'SATURN Aura' 'SATURN Aura Hybrid' 'SATURN Vue'\n",
      " 'SATURN Vue Hybrid' 'SUBARU Forester' 'SUBARU Legacy'\n",
      " 'SUBARU Outback Wagon' 'SUZUKI Forenza' 'SUZUKI Forenza Wagon'\n",
      " 'SUZUKI Reno' 'SUZUKI SX4' 'TOYOTA Avalon' 'TOYOTA Camry'\n",
      " 'TOYOTA Camry Hybrid' 'TOYOTA Corolla' 'TOYOTA Highlander'\n",
      " 'TOYOTA Highlander Hybrid' 'TOYOTA Matrix' 'TOYOTA Prius' 'TOYOTA RAV4'\n",
      " 'TOYOTA Scion TC' 'TOYOTA Scion XB' 'TOYOTA Scion XD' 'TOYOTA Solara'\n",
      " 'TOYOTA Solara Convertible' 'TOYOTA Yaris' 'VOLKSWAGEN Eos'\n",
      " 'VOLKSWAGEN GTI' 'VOLKSWAGEN Jetta' 'VOLKSWAGEN Jetta Wagon'\n",
      " 'VOLKSWAGEN New Beetle' 'VOLKSWAGEN New Beetle Convertible'\n",
      " 'VOLKSWAGEN Passat' 'VOLKSWAGEN Passat Wagon' 'VOLKSWAGEN Rabbit'\n",
      " 'VOLVO C30' 'VOLVO C70 Convertible' 'VOLVO S40' 'VOLVO S60' 'VOLVO V50']\n",
      "--------------------------------------------------\n",
      "Cyl\n",
      "4\n",
      "['(6 cyl)' '(4 cyl)' '(8 cyl)' '(5 cyl)']\n",
      "--------------------------------------------------\n",
      "Trans\n",
      "12\n",
      "['Auto-S5' 'Man-6' 'Auto-S6' 'Auto-AV' 'Auto-L4' 'Auto-4' 'Man-5'\n",
      " 'Auto-L5' 'Auto-L6' 'S8' 'Auto-S4' 'Auto-L7']\n",
      "--------------------------------------------------\n",
      "Drive\n",
      "2\n",
      "['2WD' '4WD']\n",
      "--------------------------------------------------\n",
      "Fuel\n",
      "2\n",
      "['Gasoline' 'CNG']\n",
      "--------------------------------------------------\n",
      "Sales Area\n",
      "3\n",
      "['CA' 'FA' 'FC']\n",
      "--------------------------------------------------\n",
      "Veh Class\n",
      "7\n",
      "['midsize car' 'small car' 'station wagon' 'large car' 'SUV' 'pickup'\n",
      " 'minivan']\n",
      "--------------------------------------------------\n",
      "SmartWay\n",
      "1\n",
      "['yes']\n",
      "--------------------------------------------------\n"
     ]
    }
   ],
   "source": [
    "for col in df_08.describe(include =object).columns:\n",
    "    print (col)\n",
    "    print (df_08[col].nunique())\n",
    "    print (df_08[col].unique())\n",
    "    print(\"-\"*50)"
   ]
  },
  {
   "cell_type": "code",
   "execution_count": 41,
   "id": "371641c1",
   "metadata": {},
   "outputs": [
    {
     "name": "stdout",
     "output_type": "stream",
     "text": [
      "Model\n",
      "133\n",
      "['AUDI A3 e-tron' 'AUDI A4 Ultra' 'BMW 328d' 'BMW 330e' 'BMW 530e'\n",
      " 'BMW 740e' 'BMW X5 xDrive40e' 'BMW i3 (94Ah)' 'BMW i3s (94Ah)'\n",
      " 'BUICK Encore' 'BYD e6' 'CADILLAC CT6 Plug-In' 'CHEVROLET Bolt EV'\n",
      " 'CHEVROLET Cruze' 'CHEVROLET Cruze Hatchback' 'CHEVROLET Cruze Premier'\n",
      " 'CHEVROLET Cruze Premier Hatchback' 'CHEVROLET Malibu' 'CHEVROLET Sonic'\n",
      " 'CHEVROLET Sonic 5' 'CHEVROLET Spark' 'CHEVROLET Spark Activ'\n",
      " 'CHEVROLET Volt' 'CHRYSLER Pacifica Hybrid' 'FIAT 124 Spider' 'FIAT 500'\n",
      " 'FIAT 500 Abarth' 'FIAT 500e' 'FORD C-MAX Hybrid' 'FORD Fiesta'\n",
      " 'FORD Focus' 'FORD Focus Electric' 'FORD Fusion Energi Plug-in Hybrid'\n",
      " 'FORD Fusion Hybrid' 'HONDA Accord' 'HONDA CR-V' 'HONDA Civic 2Dr'\n",
      " 'HONDA Civic 4Dr' 'HONDA Civic 5Dr' 'HONDA Clarity' 'HONDA Fit'\n",
      " 'HONDA HR-V' 'HYUNDAI Accent' 'HYUNDAI Elantra' 'HYUNDAI Elantra SE'\n",
      " 'HYUNDAI Ioniq' 'HYUNDAI Ioniq Blue' 'HYUNDAI Ioniq Electric'\n",
      " 'HYUNDAI Ioniq Plug-in Hybrid' 'HYUNDAI Kona' 'HYUNDAI Sonata'\n",
      " 'HYUNDAI Sonata Hybrid' 'HYUNDAI Sonata Hybrid SE'\n",
      " 'HYUNDAI Sonata plug-in hybrid' 'INFINITI Q70 Hybrid' 'KIA Forte'\n",
      " 'KIA Niro' 'KIA Niro FE' 'KIA Niro Plug-in Hybrid' 'KIA Niro Touring'\n",
      " 'KIA Optima' 'KIA Optima Hybrid' 'KIA Optima plug-in hybrid' 'KIA Rio'\n",
      " 'KIA Soul Electric' 'LEXUS ES 300h' 'LEXUS GS 450h' 'LEXUS LC 500h'\n",
      " 'LEXUS NX 300h' 'LEXUS RX 450h' 'LINCOLN MKZ Hybrid' 'MAZDA 2' 'MAZDA 3'\n",
      " 'MAZDA CX-3' 'MERCEDES-BENZ C350e' 'MERCEDES-BENZ GLC 350e 4Matic'\n",
      " 'MERCEDES-BENZ GLE550e 4Matic' 'MINI Cooper Convertible'\n",
      " 'MINI Cooper Hardtop' 'MINI Cooper SE Countryman All4'\n",
      " 'MITSUBISHI Mirage' 'MITSUBISHI Mirage G4' 'MITSUBISHI Outlander PHEV'\n",
      " 'NISSAN Altima' 'NISSAN Altima SR' 'NISSAN Kicks' 'NISSAN Leaf'\n",
      " 'NISSAN Rogue Hybrid' 'NISSAN Sentra' 'NISSAN Versa'\n",
      " 'PORSCHE Cayenne S e-Hybrid' 'PORSCHE Panamera 4 e-Hybrid'\n",
      " 'PORSCHE Panamera 4 e-Hybrid Executive' 'PORSCHE Panamera 4 e-Hybrid ST'\n",
      " 'PORSCHE Panamera Turbo S e-Hybrid'\n",
      " 'PORSCHE Panamera Turbo S e-Hybrid Exec'\n",
      " 'PORSCHE Panamera Turbo S e-Hybrid ST' 'SMART ForTwo ed' 'SUBARU Impreza'\n",
      " 'SUBARU Impreza Sport' 'TESLA Model 3 Long Range'\n",
      " 'TESLA Model 3 Long Range Performance' 'TESLA Model 3 Mid Range'\n",
      " 'TESLA Model 4 Long Range' 'TESLA Model S 100D' 'TESLA Model S 75D'\n",
      " 'TESLA Model S 75kWh' 'TESLA Model S P100D' 'TESLA Model X 100D'\n",
      " 'TESLA Model X 75D' 'TESLA Model X P100D' 'TOYOTA Avalon Hybrid'\n",
      " 'TOYOTA Camry' 'TOYOTA Camry Hybrid LE' 'TOYOTA Camry Hybrid XLE/SE'\n",
      " 'TOYOTA Camry LE/SE' 'TOYOTA Camry XLE/XSE' 'TOYOTA Corolla'\n",
      " 'TOYOTA Corolla LE Eco' 'TOYOTA Corolla iM' 'TOYOTA Mirai' 'TOYOTA Prius'\n",
      " 'TOYOTA Prius Eco' 'TOYOTA Prius Prime' 'TOYOTA Prius c'\n",
      " 'TOYOTA RAV4 Hybrid' 'TOYOTA Yaris' 'TOYOTA Yaris iA' 'VOLKSWAGEN Jetta'\n",
      " 'VOLKSWAGEN e-Golf' 'VOLVO S90' 'VOLVO XC60' 'VOLVO XC90']\n",
      "--------------------------------------------------\n",
      "Trans\n",
      "21\n",
      "['AMS-6' 'AMS-7' 'SemiAuto-8' 'Auto-1' 'SemiAuto-6' 'CVT' 'Man-6' 'Auto-9'\n",
      " 'Auto-6' 'Man-5' 'AutoMan-6' 'SCV-7' 'AutoMan-7' 'SemiAuto-7' 'SCV-6'\n",
      " 'SCV-8' 'SCV-10' 'Auto-7' 'AutoMan-8' 'AMS-8' 'Auto-4']\n",
      "--------------------------------------------------\n",
      "Drive\n",
      "2\n",
      "['2WD' '4WD']\n",
      "--------------------------------------------------\n",
      "Fuel\n",
      "5\n",
      "['Gasoline/Electricity' 'Gasoline' 'Diesel' 'Electricity' 'Hydrogen']\n",
      "--------------------------------------------------\n",
      "Sales Area\n",
      "2\n",
      "['CA' 'FA']\n",
      "--------------------------------------------------\n",
      "Veh Class\n",
      "7\n",
      "['small car' 'large car' 'standard SUV' 'small SUV' 'midsize car'\n",
      " 'station wagon' 'minivan']\n",
      "--------------------------------------------------\n",
      "City MPG\n",
      "76\n",
      "['34/81' '27' '31' '28/66' '27/70' '27/66' '25/62' '23/55' '36/117' '129'\n",
      " '126' '73' '23/56' '128' '29' '30' '28' '49' '43/113' '32/89' '26' '121'\n",
      " '42' '118' '43/102' '43' '47' '32' '44/117' '69' '33' '55' '57' '150'\n",
      " '53/123' '39' '40' '37/99' '51' '52' '48/110' '46' '38/103' '124' '41'\n",
      " '28/45' '24/55' '20/38' '28/63' '37' '35' '25/78' '125' '21/47' '20/40'\n",
      " '19/48' '112' '120' '136' '101' '102' '97' '92' '86' '91' '83' '44' '67'\n",
      " '54' '58' '55/145' '48' '34' '26/70' '26/60' '26/63']\n",
      "--------------------------------------------------\n",
      "Hwy MPG\n",
      "72\n",
      "['39/86' '37' '43' '34/78' '31/75' '31/68' '29/68' '25/57' '33/101' '106'\n",
      " '99' '33' '71' '29/71' '110' '40' '47' '52' '38' '45' '48' '39' '36' '35'\n",
      " '42/99' '33/78' '103' '96' '41/91' '41' '34' '42' '40/102' '67' '54' '59'\n",
      " '122' '52/114' '32' '44' '46' '42/100' '49' '44/99' '43/104' '93' '30'\n",
      " '28' '32/61' '27/57' '23/50' '27/66' '26/70' '100' '24/46' '23/51' '94'\n",
      " '91' '112' '117' '123' '102' '105' '89' '95' '53' '50' '53/121' '111'\n",
      " '33/72' '28/58' '30/61']\n",
      "--------------------------------------------------\n",
      "Cmb MPG\n",
      "68\n",
      "['36/83' '31' '36' '30/71' '29/72' '28/67' '27/64' '24/56' '35/109' '118'\n",
      " '112' '30' '72' '25/62' '119' '32' '33' '37' '35' '46' '42/106' '32/84'\n",
      " '40' '34' '107' '42/97' '42' '47' '42/110' '114' '68' '55' '58' '136'\n",
      " '52/119' '41' '39/99' '49' '50' '46/105' '43' '40/103' '108' '30/51'\n",
      " '25/56' '21/43' '27/65' '39' '25/74' '22/47' '22/46' '21/49' '102' '116'\n",
      " '123' '130' '103' '98' '87' '93' '85' '52' '67' '56' '54/133' '29/71'\n",
      " '26/59' '27/62']\n",
      "--------------------------------------------------\n",
      "SmartWay\n",
      "2\n",
      "['Elite' 'Yes']\n",
      "--------------------------------------------------\n"
     ]
    }
   ],
   "source": [
    "for col in df_18.describe(include =object).columns:\n",
    "    print (col)\n",
    "    print (df_18[col].nunique())\n",
    "    print (df_18[col].unique())\n",
    "    print(\"-\"*50)"
   ]
  },
  {
   "cell_type": "code",
   "execution_count": 43,
   "id": "09827b9a",
   "metadata": {},
   "outputs": [
    {
     "data": {
      "text/plain": [
       "False"
      ]
     },
     "execution_count": 43,
     "metadata": {},
     "output_type": "execute_result"
    }
   ],
   "source": [
    "df_08.isnull().sum().any()"
   ]
  },
  {
   "cell_type": "code",
   "execution_count": 45,
   "id": "0d0e0ce0",
   "metadata": {},
   "outputs": [
    {
     "data": {
      "text/plain": [
       "Model                    0\n",
       "Displ                   50\n",
       "Cyl                     50\n",
       "Trans                    0\n",
       "Drive                    0\n",
       "Fuel                     0\n",
       "Sales Area               0\n",
       "Veh Class                0\n",
       "Air Pollution Score      0\n",
       "City MPG                 0\n",
       "Hwy MPG                  0\n",
       "Cmb MPG                  0\n",
       "Greenhouse Gas Score     0\n",
       "SmartWay                 0\n",
       "dtype: int64"
      ]
     },
     "execution_count": 45,
     "metadata": {},
     "output_type": "execute_result"
    }
   ],
   "source": [
    "df_18.isnull().sum()"
   ]
  },
  {
   "cell_type": "code",
   "execution_count": 46,
   "id": "86b8a120",
   "metadata": {},
   "outputs": [],
   "source": [
    "df_18.dropna(inplace=True)"
   ]
  },
  {
   "cell_type": "code",
   "execution_count": 47,
   "id": "142596eb",
   "metadata": {},
   "outputs": [
    {
     "data": {
      "text/plain": [
       "False"
      ]
     },
     "execution_count": 47,
     "metadata": {},
     "output_type": "execute_result"
    }
   ],
   "source": [
    "df_18.isnull().sum().any()"
   ]
  },
  {
   "cell_type": "code",
   "execution_count": 50,
   "id": "a6a4f266",
   "metadata": {},
   "outputs": [
    {
     "data": {
      "text/plain": [
       "13"
      ]
     },
     "execution_count": 50,
     "metadata": {},
     "output_type": "execute_result"
    }
   ],
   "source": [
    "df_08.duplicated().sum()"
   ]
  },
  {
   "cell_type": "code",
   "execution_count": 51,
   "id": "3b8c4a43",
   "metadata": {},
   "outputs": [
    {
     "data": {
      "text/plain": [
       "3"
      ]
     },
     "execution_count": 51,
     "metadata": {},
     "output_type": "execute_result"
    }
   ],
   "source": [
    "df_18.duplicated().sum()"
   ]
  },
  {
   "cell_type": "code",
   "execution_count": 52,
   "id": "efa7e521",
   "metadata": {},
   "outputs": [],
   "source": [
    "df_08.drop_duplicates(inplace=True)"
   ]
  },
  {
   "cell_type": "code",
   "execution_count": 53,
   "id": "6af907cb",
   "metadata": {},
   "outputs": [],
   "source": [
    "df_18.drop_duplicates(inplace=True)"
   ]
  },
  {
   "cell_type": "code",
   "execution_count": 54,
   "id": "86dc1568",
   "metadata": {},
   "outputs": [
    {
     "data": {
      "text/plain": [
       "0"
      ]
     },
     "execution_count": 54,
     "metadata": {},
     "output_type": "execute_result"
    }
   ],
   "source": [
    "df_08.duplicated().sum()"
   ]
  },
  {
   "cell_type": "code",
   "execution_count": 55,
   "id": "105155e4",
   "metadata": {},
   "outputs": [
    {
     "data": {
      "text/plain": [
       "0"
      ]
     },
     "execution_count": 55,
     "metadata": {},
     "output_type": "execute_result"
    }
   ],
   "source": [
    "df_18.duplicated().sum()"
   ]
  },
  {
   "cell_type": "code",
   "execution_count": 56,
   "id": "0dc204ea",
   "metadata": {},
   "outputs": [],
   "source": [
    "df_08.to_csv(\"data_08.csv\", index = False)\n",
    "df_18.to_csv(\"data_18.csv\", index = False)"
   ]
  },
  {
   "cell_type": "markdown",
   "id": "5facf7d1",
   "metadata": {},
   "source": [
    "## Inspecting Data Types"
   ]
  },
  {
   "cell_type": "code",
   "execution_count": 57,
   "id": "f81ba683",
   "metadata": {},
   "outputs": [
    {
     "name": "stdout",
     "output_type": "stream",
     "text": [
      "<class 'pandas.core.frame.DataFrame'>\n",
      "Int64Index: 625 entries, 0 to 637\n",
      "Data columns (total 14 columns):\n",
      " #   Column                Non-Null Count  Dtype  \n",
      "---  ------                --------------  -----  \n",
      " 0   Model                 625 non-null    object \n",
      " 1   Displ                 625 non-null    float64\n",
      " 2   Cyl                   625 non-null    object \n",
      " 3   Trans                 625 non-null    object \n",
      " 4   Drive                 625 non-null    object \n",
      " 5   Fuel                  625 non-null    object \n",
      " 6   Sales Area            625 non-null    object \n",
      " 7   Veh Class             625 non-null    object \n",
      " 8   Air Pollution Score   625 non-null    float64\n",
      " 9   City MPG              625 non-null    float64\n",
      " 10  Hwy MPG               625 non-null    float64\n",
      " 11  Cmb MPG               625 non-null    float64\n",
      " 12  Greenhouse Gas Score  625 non-null    float64\n",
      " 13  SmartWay              625 non-null    object \n",
      "dtypes: float64(6), object(8)\n",
      "memory usage: 73.2+ KB\n"
     ]
    }
   ],
   "source": [
    "df_08.info()"
   ]
  },
  {
   "cell_type": "code",
   "execution_count": 58,
   "id": "379366da",
   "metadata": {},
   "outputs": [
    {
     "name": "stdout",
     "output_type": "stream",
     "text": [
      "<class 'pandas.core.frame.DataFrame'>\n",
      "Int64Index: 364 entries, 0 to 416\n",
      "Data columns (total 14 columns):\n",
      " #   Column                Non-Null Count  Dtype  \n",
      "---  ------                --------------  -----  \n",
      " 0   Model                 364 non-null    object \n",
      " 1   Displ                 364 non-null    float64\n",
      " 2   Cyl                   364 non-null    float64\n",
      " 3   Trans                 364 non-null    object \n",
      " 4   Drive                 364 non-null    object \n",
      " 5   Fuel                  364 non-null    object \n",
      " 6   Sales Area            364 non-null    object \n",
      " 7   Veh Class             364 non-null    object \n",
      " 8   Air Pollution Score   364 non-null    int64  \n",
      " 9   City MPG              364 non-null    object \n",
      " 10  Hwy MPG               364 non-null    object \n",
      " 11  Cmb MPG               364 non-null    object \n",
      " 12  Greenhouse Gas Score  364 non-null    int64  \n",
      " 13  SmartWay              364 non-null    object \n",
      "dtypes: float64(2), int64(2), object(10)\n",
      "memory usage: 42.7+ KB\n"
     ]
    }
   ],
   "source": [
    "df_18.info()"
   ]
  },
  {
   "cell_type": "code",
   "execution_count": 60,
   "id": "1b790948",
   "metadata": {},
   "outputs": [
    {
     "data": {
      "text/plain": [
       "4.0    310\n",
       "3.0     24\n",
       "6.0     20\n",
       "8.0      6\n",
       "2.0      4\n",
       "Name: Cyl, dtype: int64"
      ]
     },
     "execution_count": 60,
     "metadata": {},
     "output_type": "execute_result"
    }
   ],
   "source": [
    "df_18[\"Cyl\"].value_counts()"
   ]
  },
  {
   "cell_type": "code",
   "execution_count": 61,
   "id": "bef2d5b5",
   "metadata": {},
   "outputs": [
    {
     "data": {
      "text/plain": [
       "(4 cyl)    389\n",
       "(6 cyl)    155\n",
       "(5 cyl)     73\n",
       "(8 cyl)      8\n",
       "Name: Cyl, dtype: int64"
      ]
     },
     "execution_count": 61,
     "metadata": {},
     "output_type": "execute_result"
    }
   ],
   "source": [
    "df_08[\"Cyl\"].value_counts()"
   ]
  },
  {
   "cell_type": "code",
   "execution_count": 62,
   "id": "6dd9ecde",
   "metadata": {},
   "outputs": [],
   "source": [
    "df_08['Cyl'] = df_08['Cyl'].str.extract('(\\d+)').astype(int)"
   ]
  },
  {
   "cell_type": "code",
   "execution_count": 63,
   "id": "5beaf40d",
   "metadata": {},
   "outputs": [
    {
     "data": {
      "text/plain": [
       "4    389\n",
       "6    155\n",
       "5     73\n",
       "8      8\n",
       "Name: Cyl, dtype: int64"
      ]
     },
     "execution_count": 63,
     "metadata": {},
     "output_type": "execute_result"
    }
   ],
   "source": [
    "df_08[\"Cyl\"].value_counts()"
   ]
  },
  {
   "cell_type": "code",
   "execution_count": 64,
   "id": "6ebdcf87",
   "metadata": {},
   "outputs": [],
   "source": [
    "df_18[\"Cyl\"] = df_18[\"Cyl\"].astype(int)"
   ]
  },
  {
   "cell_type": "code",
   "execution_count": 65,
   "id": "082e073a",
   "metadata": {},
   "outputs": [
    {
     "data": {
      "text/plain": [
       "4    310\n",
       "3     24\n",
       "6     20\n",
       "8      6\n",
       "2      4\n",
       "Name: Cyl, dtype: int64"
      ]
     },
     "execution_count": 65,
     "metadata": {},
     "output_type": "execute_result"
    }
   ],
   "source": [
    "df_18[\"Cyl\"].value_counts()"
   ]
  },
  {
   "cell_type": "code",
   "execution_count": 67,
   "id": "900e5d55",
   "metadata": {},
   "outputs": [],
   "source": [
    "df_18[\"Air Pollution Score\"] = df_18[\"Air Pollution Score\"].astype('float64')"
   ]
  },
  {
   "cell_type": "code",
   "execution_count": 70,
   "id": "2b4157df",
   "metadata": {},
   "outputs": [
    {
     "ename": "ValueError",
     "evalue": "could not convert string to float: '34/81'",
     "output_type": "error",
     "traceback": [
      "\u001b[1;31m---------------------------------------------------------------------------\u001b[0m",
      "\u001b[1;31mValueError\u001b[0m                                Traceback (most recent call last)",
      "Input \u001b[1;32mIn [70]\u001b[0m, in \u001b[0;36m<cell line: 1>\u001b[1;34m()\u001b[0m\n\u001b[1;32m----> 1\u001b[0m df_18[\u001b[38;5;124m\"\u001b[39m\u001b[38;5;124mCity MPG\u001b[39m\u001b[38;5;124m\"\u001b[39m] \u001b[38;5;241m=\u001b[39m \u001b[43mdf_18\u001b[49m\u001b[43m[\u001b[49m\u001b[38;5;124;43m\"\u001b[39;49m\u001b[38;5;124;43mCity MPG\u001b[39;49m\u001b[38;5;124;43m\"\u001b[39;49m\u001b[43m]\u001b[49m\u001b[38;5;241;43m.\u001b[39;49m\u001b[43mastype\u001b[49m\u001b[43m(\u001b[49m\u001b[38;5;124;43m'\u001b[39;49m\u001b[38;5;124;43mfloat64\u001b[39;49m\u001b[38;5;124;43m'\u001b[39;49m\u001b[43m)\u001b[49m\n",
      "File \u001b[1;32m~\\AppData\\Local\\Packages\\PythonSoftwareFoundation.Python.3.10_qbz5n2kfra8p0\\LocalCache\\local-packages\\Python310\\site-packages\\pandas\\core\\generic.py:5912\u001b[0m, in \u001b[0;36mNDFrame.astype\u001b[1;34m(self, dtype, copy, errors)\u001b[0m\n\u001b[0;32m   5905\u001b[0m     results \u001b[38;5;241m=\u001b[39m [\n\u001b[0;32m   5906\u001b[0m         \u001b[38;5;28mself\u001b[39m\u001b[38;5;241m.\u001b[39miloc[:, i]\u001b[38;5;241m.\u001b[39mastype(dtype, copy\u001b[38;5;241m=\u001b[39mcopy)\n\u001b[0;32m   5907\u001b[0m         \u001b[38;5;28;01mfor\u001b[39;00m i \u001b[38;5;129;01min\u001b[39;00m \u001b[38;5;28mrange\u001b[39m(\u001b[38;5;28mlen\u001b[39m(\u001b[38;5;28mself\u001b[39m\u001b[38;5;241m.\u001b[39mcolumns))\n\u001b[0;32m   5908\u001b[0m     ]\n\u001b[0;32m   5910\u001b[0m \u001b[38;5;28;01melse\u001b[39;00m:\n\u001b[0;32m   5911\u001b[0m     \u001b[38;5;66;03m# else, only a single dtype is given\u001b[39;00m\n\u001b[1;32m-> 5912\u001b[0m     new_data \u001b[38;5;241m=\u001b[39m \u001b[38;5;28;43mself\u001b[39;49m\u001b[38;5;241;43m.\u001b[39;49m\u001b[43m_mgr\u001b[49m\u001b[38;5;241;43m.\u001b[39;49m\u001b[43mastype\u001b[49m\u001b[43m(\u001b[49m\u001b[43mdtype\u001b[49m\u001b[38;5;241;43m=\u001b[39;49m\u001b[43mdtype\u001b[49m\u001b[43m,\u001b[49m\u001b[43m \u001b[49m\u001b[43mcopy\u001b[49m\u001b[38;5;241;43m=\u001b[39;49m\u001b[43mcopy\u001b[49m\u001b[43m,\u001b[49m\u001b[43m \u001b[49m\u001b[43merrors\u001b[49m\u001b[38;5;241;43m=\u001b[39;49m\u001b[43merrors\u001b[49m\u001b[43m)\u001b[49m\n\u001b[0;32m   5913\u001b[0m     \u001b[38;5;28;01mreturn\u001b[39;00m \u001b[38;5;28mself\u001b[39m\u001b[38;5;241m.\u001b[39m_constructor(new_data)\u001b[38;5;241m.\u001b[39m__finalize__(\u001b[38;5;28mself\u001b[39m, method\u001b[38;5;241m=\u001b[39m\u001b[38;5;124m\"\u001b[39m\u001b[38;5;124mastype\u001b[39m\u001b[38;5;124m\"\u001b[39m)\n\u001b[0;32m   5915\u001b[0m \u001b[38;5;66;03m# GH 33113: handle empty frame or series\u001b[39;00m\n",
      "File \u001b[1;32m~\\AppData\\Local\\Packages\\PythonSoftwareFoundation.Python.3.10_qbz5n2kfra8p0\\LocalCache\\local-packages\\Python310\\site-packages\\pandas\\core\\internals\\managers.py:419\u001b[0m, in \u001b[0;36mBaseBlockManager.astype\u001b[1;34m(self, dtype, copy, errors)\u001b[0m\n\u001b[0;32m    418\u001b[0m \u001b[38;5;28;01mdef\u001b[39;00m \u001b[38;5;21mastype\u001b[39m(\u001b[38;5;28mself\u001b[39m: T, dtype, copy: \u001b[38;5;28mbool\u001b[39m \u001b[38;5;241m=\u001b[39m \u001b[38;5;28;01mFalse\u001b[39;00m, errors: \u001b[38;5;28mstr\u001b[39m \u001b[38;5;241m=\u001b[39m \u001b[38;5;124m\"\u001b[39m\u001b[38;5;124mraise\u001b[39m\u001b[38;5;124m\"\u001b[39m) \u001b[38;5;241m-\u001b[39m\u001b[38;5;241m>\u001b[39m T:\n\u001b[1;32m--> 419\u001b[0m     \u001b[38;5;28;01mreturn\u001b[39;00m \u001b[38;5;28;43mself\u001b[39;49m\u001b[38;5;241;43m.\u001b[39;49m\u001b[43mapply\u001b[49m\u001b[43m(\u001b[49m\u001b[38;5;124;43m\"\u001b[39;49m\u001b[38;5;124;43mastype\u001b[39;49m\u001b[38;5;124;43m\"\u001b[39;49m\u001b[43m,\u001b[49m\u001b[43m \u001b[49m\u001b[43mdtype\u001b[49m\u001b[38;5;241;43m=\u001b[39;49m\u001b[43mdtype\u001b[49m\u001b[43m,\u001b[49m\u001b[43m \u001b[49m\u001b[43mcopy\u001b[49m\u001b[38;5;241;43m=\u001b[39;49m\u001b[43mcopy\u001b[49m\u001b[43m,\u001b[49m\u001b[43m \u001b[49m\u001b[43merrors\u001b[49m\u001b[38;5;241;43m=\u001b[39;49m\u001b[43merrors\u001b[49m\u001b[43m)\u001b[49m\n",
      "File \u001b[1;32m~\\AppData\\Local\\Packages\\PythonSoftwareFoundation.Python.3.10_qbz5n2kfra8p0\\LocalCache\\local-packages\\Python310\\site-packages\\pandas\\core\\internals\\managers.py:304\u001b[0m, in \u001b[0;36mBaseBlockManager.apply\u001b[1;34m(self, f, align_keys, ignore_failures, **kwargs)\u001b[0m\n\u001b[0;32m    302\u001b[0m         applied \u001b[38;5;241m=\u001b[39m b\u001b[38;5;241m.\u001b[39mapply(f, \u001b[38;5;241m*\u001b[39m\u001b[38;5;241m*\u001b[39mkwargs)\n\u001b[0;32m    303\u001b[0m     \u001b[38;5;28;01melse\u001b[39;00m:\n\u001b[1;32m--> 304\u001b[0m         applied \u001b[38;5;241m=\u001b[39m \u001b[38;5;28mgetattr\u001b[39m(b, f)(\u001b[38;5;241m*\u001b[39m\u001b[38;5;241m*\u001b[39mkwargs)\n\u001b[0;32m    305\u001b[0m \u001b[38;5;28;01mexcept\u001b[39;00m (\u001b[38;5;167;01mTypeError\u001b[39;00m, \u001b[38;5;167;01mNotImplementedError\u001b[39;00m):\n\u001b[0;32m    306\u001b[0m     \u001b[38;5;28;01mif\u001b[39;00m \u001b[38;5;129;01mnot\u001b[39;00m ignore_failures:\n",
      "File \u001b[1;32m~\\AppData\\Local\\Packages\\PythonSoftwareFoundation.Python.3.10_qbz5n2kfra8p0\\LocalCache\\local-packages\\Python310\\site-packages\\pandas\\core\\internals\\blocks.py:580\u001b[0m, in \u001b[0;36mBlock.astype\u001b[1;34m(self, dtype, copy, errors)\u001b[0m\n\u001b[0;32m    562\u001b[0m \u001b[38;5;124;03m\"\"\"\u001b[39;00m\n\u001b[0;32m    563\u001b[0m \u001b[38;5;124;03mCoerce to the new dtype.\u001b[39;00m\n\u001b[0;32m    564\u001b[0m \n\u001b[1;32m   (...)\u001b[0m\n\u001b[0;32m    576\u001b[0m \u001b[38;5;124;03mBlock\u001b[39;00m\n\u001b[0;32m    577\u001b[0m \u001b[38;5;124;03m\"\"\"\u001b[39;00m\n\u001b[0;32m    578\u001b[0m values \u001b[38;5;241m=\u001b[39m \u001b[38;5;28mself\u001b[39m\u001b[38;5;241m.\u001b[39mvalues\n\u001b[1;32m--> 580\u001b[0m new_values \u001b[38;5;241m=\u001b[39m \u001b[43mastype_array_safe\u001b[49m\u001b[43m(\u001b[49m\u001b[43mvalues\u001b[49m\u001b[43m,\u001b[49m\u001b[43m \u001b[49m\u001b[43mdtype\u001b[49m\u001b[43m,\u001b[49m\u001b[43m \u001b[49m\u001b[43mcopy\u001b[49m\u001b[38;5;241;43m=\u001b[39;49m\u001b[43mcopy\u001b[49m\u001b[43m,\u001b[49m\u001b[43m \u001b[49m\u001b[43merrors\u001b[49m\u001b[38;5;241;43m=\u001b[39;49m\u001b[43merrors\u001b[49m\u001b[43m)\u001b[49m\n\u001b[0;32m    582\u001b[0m new_values \u001b[38;5;241m=\u001b[39m maybe_coerce_values(new_values)\n\u001b[0;32m    583\u001b[0m newb \u001b[38;5;241m=\u001b[39m \u001b[38;5;28mself\u001b[39m\u001b[38;5;241m.\u001b[39mmake_block(new_values)\n",
      "File \u001b[1;32m~\\AppData\\Local\\Packages\\PythonSoftwareFoundation.Python.3.10_qbz5n2kfra8p0\\LocalCache\\local-packages\\Python310\\site-packages\\pandas\\core\\dtypes\\cast.py:1292\u001b[0m, in \u001b[0;36mastype_array_safe\u001b[1;34m(values, dtype, copy, errors)\u001b[0m\n\u001b[0;32m   1289\u001b[0m     dtype \u001b[38;5;241m=\u001b[39m dtype\u001b[38;5;241m.\u001b[39mnumpy_dtype\n\u001b[0;32m   1291\u001b[0m \u001b[38;5;28;01mtry\u001b[39;00m:\n\u001b[1;32m-> 1292\u001b[0m     new_values \u001b[38;5;241m=\u001b[39m \u001b[43mastype_array\u001b[49m\u001b[43m(\u001b[49m\u001b[43mvalues\u001b[49m\u001b[43m,\u001b[49m\u001b[43m \u001b[49m\u001b[43mdtype\u001b[49m\u001b[43m,\u001b[49m\u001b[43m \u001b[49m\u001b[43mcopy\u001b[49m\u001b[38;5;241;43m=\u001b[39;49m\u001b[43mcopy\u001b[49m\u001b[43m)\u001b[49m\n\u001b[0;32m   1293\u001b[0m \u001b[38;5;28;01mexcept\u001b[39;00m (\u001b[38;5;167;01mValueError\u001b[39;00m, \u001b[38;5;167;01mTypeError\u001b[39;00m):\n\u001b[0;32m   1294\u001b[0m     \u001b[38;5;66;03m# e.g. astype_nansafe can fail on object-dtype of strings\u001b[39;00m\n\u001b[0;32m   1295\u001b[0m     \u001b[38;5;66;03m#  trying to convert to float\u001b[39;00m\n\u001b[0;32m   1296\u001b[0m     \u001b[38;5;28;01mif\u001b[39;00m errors \u001b[38;5;241m==\u001b[39m \u001b[38;5;124m\"\u001b[39m\u001b[38;5;124mignore\u001b[39m\u001b[38;5;124m\"\u001b[39m:\n",
      "File \u001b[1;32m~\\AppData\\Local\\Packages\\PythonSoftwareFoundation.Python.3.10_qbz5n2kfra8p0\\LocalCache\\local-packages\\Python310\\site-packages\\pandas\\core\\dtypes\\cast.py:1237\u001b[0m, in \u001b[0;36mastype_array\u001b[1;34m(values, dtype, copy)\u001b[0m\n\u001b[0;32m   1234\u001b[0m     values \u001b[38;5;241m=\u001b[39m values\u001b[38;5;241m.\u001b[39mastype(dtype, copy\u001b[38;5;241m=\u001b[39mcopy)\n\u001b[0;32m   1236\u001b[0m \u001b[38;5;28;01melse\u001b[39;00m:\n\u001b[1;32m-> 1237\u001b[0m     values \u001b[38;5;241m=\u001b[39m \u001b[43mastype_nansafe\u001b[49m\u001b[43m(\u001b[49m\u001b[43mvalues\u001b[49m\u001b[43m,\u001b[49m\u001b[43m \u001b[49m\u001b[43mdtype\u001b[49m\u001b[43m,\u001b[49m\u001b[43m \u001b[49m\u001b[43mcopy\u001b[49m\u001b[38;5;241;43m=\u001b[39;49m\u001b[43mcopy\u001b[49m\u001b[43m)\u001b[49m\n\u001b[0;32m   1239\u001b[0m \u001b[38;5;66;03m# in pandas we don't store numpy str dtypes, so convert to object\u001b[39;00m\n\u001b[0;32m   1240\u001b[0m \u001b[38;5;28;01mif\u001b[39;00m \u001b[38;5;28misinstance\u001b[39m(dtype, np\u001b[38;5;241m.\u001b[39mdtype) \u001b[38;5;129;01mand\u001b[39;00m \u001b[38;5;28missubclass\u001b[39m(values\u001b[38;5;241m.\u001b[39mdtype\u001b[38;5;241m.\u001b[39mtype, \u001b[38;5;28mstr\u001b[39m):\n",
      "File \u001b[1;32m~\\AppData\\Local\\Packages\\PythonSoftwareFoundation.Python.3.10_qbz5n2kfra8p0\\LocalCache\\local-packages\\Python310\\site-packages\\pandas\\core\\dtypes\\cast.py:1181\u001b[0m, in \u001b[0;36mastype_nansafe\u001b[1;34m(arr, dtype, copy, skipna)\u001b[0m\n\u001b[0;32m   1177\u001b[0m     \u001b[38;5;28;01mraise\u001b[39;00m \u001b[38;5;167;01mValueError\u001b[39;00m(msg)\n\u001b[0;32m   1179\u001b[0m \u001b[38;5;28;01mif\u001b[39;00m copy \u001b[38;5;129;01mor\u001b[39;00m is_object_dtype(arr\u001b[38;5;241m.\u001b[39mdtype) \u001b[38;5;129;01mor\u001b[39;00m is_object_dtype(dtype):\n\u001b[0;32m   1180\u001b[0m     \u001b[38;5;66;03m# Explicit copy, or required since NumPy can't view from / to object.\u001b[39;00m\n\u001b[1;32m-> 1181\u001b[0m     \u001b[38;5;28;01mreturn\u001b[39;00m \u001b[43marr\u001b[49m\u001b[38;5;241;43m.\u001b[39;49m\u001b[43mastype\u001b[49m\u001b[43m(\u001b[49m\u001b[43mdtype\u001b[49m\u001b[43m,\u001b[49m\u001b[43m \u001b[49m\u001b[43mcopy\u001b[49m\u001b[38;5;241;43m=\u001b[39;49m\u001b[38;5;28;43;01mTrue\u001b[39;49;00m\u001b[43m)\u001b[49m\n\u001b[0;32m   1183\u001b[0m \u001b[38;5;28;01mreturn\u001b[39;00m arr\u001b[38;5;241m.\u001b[39mastype(dtype, copy\u001b[38;5;241m=\u001b[39mcopy)\n",
      "\u001b[1;31mValueError\u001b[0m: could not convert string to float: '34/81'"
     ]
    }
   ],
   "source": [
    "df_18[\"City MPG\"] = df_18[\"City MPG\"].astype('float64')"
   ]
  },
  {
   "cell_type": "code",
   "execution_count": 76,
   "id": "175ebfc0",
   "metadata": {},
   "outputs": [
    {
     "data": {
      "text/html": [
       "<div>\n",
       "<style scoped>\n",
       "    .dataframe tbody tr th:only-of-type {\n",
       "        vertical-align: middle;\n",
       "    }\n",
       "\n",
       "    .dataframe tbody tr th {\n",
       "        vertical-align: top;\n",
       "    }\n",
       "\n",
       "    .dataframe thead th {\n",
       "        text-align: right;\n",
       "    }\n",
       "</style>\n",
       "<table border=\"1\" class=\"dataframe\">\n",
       "  <thead>\n",
       "    <tr style=\"text-align: right;\">\n",
       "      <th></th>\n",
       "      <th>Model</th>\n",
       "      <th>Displ</th>\n",
       "      <th>Cyl</th>\n",
       "      <th>Trans</th>\n",
       "      <th>Drive</th>\n",
       "      <th>Fuel</th>\n",
       "      <th>Sales Area</th>\n",
       "      <th>Veh Class</th>\n",
       "      <th>Air Pollution Score</th>\n",
       "      <th>City MPG</th>\n",
       "      <th>Hwy MPG</th>\n",
       "      <th>Cmb MPG</th>\n",
       "      <th>Greenhouse Gas Score</th>\n",
       "      <th>SmartWay</th>\n",
       "    </tr>\n",
       "  </thead>\n",
       "  <tbody>\n",
       "    <tr>\n",
       "      <th>0</th>\n",
       "      <td>AUDI A3 e-tron</td>\n",
       "      <td>1.4</td>\n",
       "      <td>4</td>\n",
       "      <td>AMS-6</td>\n",
       "      <td>2WD</td>\n",
       "      <td>Gasoline/Electricity</td>\n",
       "      <td>CA</td>\n",
       "      <td>small car</td>\n",
       "      <td>7.0</td>\n",
       "      <td>34/81</td>\n",
       "      <td>39/86</td>\n",
       "      <td>36/83</td>\n",
       "      <td>10</td>\n",
       "      <td>Elite</td>\n",
       "    </tr>\n",
       "    <tr>\n",
       "      <th>1</th>\n",
       "      <td>AUDI A3 e-tron</td>\n",
       "      <td>1.4</td>\n",
       "      <td>4</td>\n",
       "      <td>AMS-6</td>\n",
       "      <td>2WD</td>\n",
       "      <td>Gasoline/Electricity</td>\n",
       "      <td>FA</td>\n",
       "      <td>small car</td>\n",
       "      <td>7.0</td>\n",
       "      <td>34/81</td>\n",
       "      <td>39/86</td>\n",
       "      <td>36/83</td>\n",
       "      <td>10</td>\n",
       "      <td>Elite</td>\n",
       "    </tr>\n",
       "  </tbody>\n",
       "</table>\n",
       "</div>"
      ],
      "text/plain": [
       "            Model  Displ  Cyl  Trans Drive                  Fuel Sales Area  \\\n",
       "0  AUDI A3 e-tron    1.4    4  AMS-6   2WD  Gasoline/Electricity         CA   \n",
       "1  AUDI A3 e-tron    1.4    4  AMS-6   2WD  Gasoline/Electricity         FA   \n",
       "\n",
       "   Veh Class  Air Pollution Score City MPG Hwy MPG Cmb MPG  \\\n",
       "0  small car                  7.0    34/81   39/86   36/83   \n",
       "1  small car                  7.0    34/81   39/86   36/83   \n",
       "\n",
       "   Greenhouse Gas Score SmartWay  \n",
       "0                    10    Elite  \n",
       "1                    10    Elite  "
      ]
     },
     "execution_count": 76,
     "metadata": {},
     "output_type": "execute_result"
    }
   ],
   "source": [
    "df_18[df_18[\"City MPG\"] == \"34/81\"]"
   ]
  },
  {
   "cell_type": "code",
   "execution_count": 78,
   "id": "b3b3bedd",
   "metadata": {},
   "outputs": [
    {
     "data": {
      "text/html": [
       "<div>\n",
       "<style scoped>\n",
       "    .dataframe tbody tr th:only-of-type {\n",
       "        vertical-align: middle;\n",
       "    }\n",
       "\n",
       "    .dataframe tbody tr th {\n",
       "        vertical-align: top;\n",
       "    }\n",
       "\n",
       "    .dataframe thead th {\n",
       "        text-align: right;\n",
       "    }\n",
       "</style>\n",
       "<table border=\"1\" class=\"dataframe\">\n",
       "  <thead>\n",
       "    <tr style=\"text-align: right;\">\n",
       "      <th></th>\n",
       "      <th>Model</th>\n",
       "      <th>Displ</th>\n",
       "      <th>Cyl</th>\n",
       "      <th>Trans</th>\n",
       "      <th>Drive</th>\n",
       "      <th>Fuel</th>\n",
       "      <th>Sales Area</th>\n",
       "      <th>Veh Class</th>\n",
       "      <th>Air Pollution Score</th>\n",
       "      <th>City MPG</th>\n",
       "      <th>Hwy MPG</th>\n",
       "      <th>Cmb MPG</th>\n",
       "      <th>Greenhouse Gas Score</th>\n",
       "      <th>SmartWay</th>\n",
       "    </tr>\n",
       "  </thead>\n",
       "  <tbody>\n",
       "    <tr>\n",
       "      <th>0</th>\n",
       "      <td>AUDI A3 e-tron</td>\n",
       "      <td>1.4</td>\n",
       "      <td>4</td>\n",
       "      <td>AMS-6</td>\n",
       "      <td>2WD</td>\n",
       "      <td>Gasoline/Electricity</td>\n",
       "      <td>CA</td>\n",
       "      <td>small car</td>\n",
       "      <td>7.0</td>\n",
       "      <td>34/81</td>\n",
       "      <td>39/86</td>\n",
       "      <td>36/83</td>\n",
       "      <td>10</td>\n",
       "      <td>Elite</td>\n",
       "    </tr>\n",
       "    <tr>\n",
       "      <th>1</th>\n",
       "      <td>AUDI A3 e-tron</td>\n",
       "      <td>1.4</td>\n",
       "      <td>4</td>\n",
       "      <td>AMS-6</td>\n",
       "      <td>2WD</td>\n",
       "      <td>Gasoline/Electricity</td>\n",
       "      <td>FA</td>\n",
       "      <td>small car</td>\n",
       "      <td>7.0</td>\n",
       "      <td>34/81</td>\n",
       "      <td>39/86</td>\n",
       "      <td>36/83</td>\n",
       "      <td>10</td>\n",
       "      <td>Elite</td>\n",
       "    </tr>\n",
       "    <tr>\n",
       "      <th>6</th>\n",
       "      <td>BMW 330e</td>\n",
       "      <td>2.0</td>\n",
       "      <td>4</td>\n",
       "      <td>SemiAuto-8</td>\n",
       "      <td>2WD</td>\n",
       "      <td>Gasoline/Electricity</td>\n",
       "      <td>CA</td>\n",
       "      <td>small car</td>\n",
       "      <td>3.0</td>\n",
       "      <td>28/66</td>\n",
       "      <td>34/78</td>\n",
       "      <td>30/71</td>\n",
       "      <td>10</td>\n",
       "      <td>Yes</td>\n",
       "    </tr>\n",
       "    <tr>\n",
       "      <th>7</th>\n",
       "      <td>BMW 330e</td>\n",
       "      <td>2.0</td>\n",
       "      <td>4</td>\n",
       "      <td>SemiAuto-8</td>\n",
       "      <td>2WD</td>\n",
       "      <td>Gasoline/Electricity</td>\n",
       "      <td>FA</td>\n",
       "      <td>small car</td>\n",
       "      <td>3.0</td>\n",
       "      <td>28/66</td>\n",
       "      <td>34/78</td>\n",
       "      <td>30/71</td>\n",
       "      <td>10</td>\n",
       "      <td>Yes</td>\n",
       "    </tr>\n",
       "    <tr>\n",
       "      <th>8</th>\n",
       "      <td>BMW 530e</td>\n",
       "      <td>2.0</td>\n",
       "      <td>4</td>\n",
       "      <td>SemiAuto-8</td>\n",
       "      <td>2WD</td>\n",
       "      <td>Gasoline/Electricity</td>\n",
       "      <td>CA</td>\n",
       "      <td>small car</td>\n",
       "      <td>7.0</td>\n",
       "      <td>27/70</td>\n",
       "      <td>31/75</td>\n",
       "      <td>29/72</td>\n",
       "      <td>10</td>\n",
       "      <td>Elite</td>\n",
       "    </tr>\n",
       "  </tbody>\n",
       "</table>\n",
       "</div>"
      ],
      "text/plain": [
       "            Model  Displ  Cyl       Trans Drive                  Fuel  \\\n",
       "0  AUDI A3 e-tron    1.4    4       AMS-6   2WD  Gasoline/Electricity   \n",
       "1  AUDI A3 e-tron    1.4    4       AMS-6   2WD  Gasoline/Electricity   \n",
       "6        BMW 330e    2.0    4  SemiAuto-8   2WD  Gasoline/Electricity   \n",
       "7        BMW 330e    2.0    4  SemiAuto-8   2WD  Gasoline/Electricity   \n",
       "8        BMW 530e    2.0    4  SemiAuto-8   2WD  Gasoline/Electricity   \n",
       "\n",
       "  Sales Area  Veh Class  Air Pollution Score City MPG Hwy MPG Cmb MPG  \\\n",
       "0         CA  small car                  7.0    34/81   39/86   36/83   \n",
       "1         FA  small car                  7.0    34/81   39/86   36/83   \n",
       "6         CA  small car                  3.0    28/66   34/78   30/71   \n",
       "7         FA  small car                  3.0    28/66   34/78   30/71   \n",
       "8         CA  small car                  7.0    27/70   31/75   29/72   \n",
       "\n",
       "   Greenhouse Gas Score SmartWay  \n",
       "0                    10    Elite  \n",
       "1                    10    Elite  \n",
       "6                    10      Yes  \n",
       "7                    10      Yes  \n",
       "8                    10    Elite  "
      ]
     },
     "execution_count": 78,
     "metadata": {},
     "output_type": "execute_result"
    }
   ],
   "source": [
    "hb_18 = df_18[df_18[\"City MPG\"].str.contains(\"/\")]\n",
    "hb_18.head()"
   ]
  },
  {
   "cell_type": "code",
   "execution_count": 79,
   "id": "732b0caa",
   "metadata": {},
   "outputs": [],
   "source": [
    "df1 = hb_18.copy()\n",
    "df2 = hb_18.copy()"
   ]
  },
  {
   "cell_type": "code",
   "execution_count": 80,
   "id": "075fca57",
   "metadata": {},
   "outputs": [
    {
     "data": {
      "text/html": [
       "<div>\n",
       "<style scoped>\n",
       "    .dataframe tbody tr th:only-of-type {\n",
       "        vertical-align: middle;\n",
       "    }\n",
       "\n",
       "    .dataframe tbody tr th {\n",
       "        vertical-align: top;\n",
       "    }\n",
       "\n",
       "    .dataframe thead th {\n",
       "        text-align: right;\n",
       "    }\n",
       "</style>\n",
       "<table border=\"1\" class=\"dataframe\">\n",
       "  <thead>\n",
       "    <tr style=\"text-align: right;\">\n",
       "      <th></th>\n",
       "      <th>Model</th>\n",
       "      <th>Displ</th>\n",
       "      <th>Cyl</th>\n",
       "      <th>Trans</th>\n",
       "      <th>Drive</th>\n",
       "      <th>Fuel</th>\n",
       "      <th>Sales Area</th>\n",
       "      <th>Veh Class</th>\n",
       "      <th>Air Pollution Score</th>\n",
       "      <th>City MPG</th>\n",
       "      <th>Hwy MPG</th>\n",
       "      <th>Cmb MPG</th>\n",
       "      <th>Greenhouse Gas Score</th>\n",
       "      <th>SmartWay</th>\n",
       "    </tr>\n",
       "  </thead>\n",
       "  <tbody>\n",
       "    <tr>\n",
       "      <th>0</th>\n",
       "      <td>AUDI A3 e-tron</td>\n",
       "      <td>1.4</td>\n",
       "      <td>4</td>\n",
       "      <td>AMS-6</td>\n",
       "      <td>2WD</td>\n",
       "      <td>Gasoline/Electricity</td>\n",
       "      <td>CA</td>\n",
       "      <td>small car</td>\n",
       "      <td>7.0</td>\n",
       "      <td>34/81</td>\n",
       "      <td>39/86</td>\n",
       "      <td>36/83</td>\n",
       "      <td>10</td>\n",
       "      <td>Elite</td>\n",
       "    </tr>\n",
       "    <tr>\n",
       "      <th>1</th>\n",
       "      <td>AUDI A3 e-tron</td>\n",
       "      <td>1.4</td>\n",
       "      <td>4</td>\n",
       "      <td>AMS-6</td>\n",
       "      <td>2WD</td>\n",
       "      <td>Gasoline/Electricity</td>\n",
       "      <td>FA</td>\n",
       "      <td>small car</td>\n",
       "      <td>7.0</td>\n",
       "      <td>34/81</td>\n",
       "      <td>39/86</td>\n",
       "      <td>36/83</td>\n",
       "      <td>10</td>\n",
       "      <td>Elite</td>\n",
       "    </tr>\n",
       "    <tr>\n",
       "      <th>6</th>\n",
       "      <td>BMW 330e</td>\n",
       "      <td>2.0</td>\n",
       "      <td>4</td>\n",
       "      <td>SemiAuto-8</td>\n",
       "      <td>2WD</td>\n",
       "      <td>Gasoline/Electricity</td>\n",
       "      <td>CA</td>\n",
       "      <td>small car</td>\n",
       "      <td>3.0</td>\n",
       "      <td>28/66</td>\n",
       "      <td>34/78</td>\n",
       "      <td>30/71</td>\n",
       "      <td>10</td>\n",
       "      <td>Yes</td>\n",
       "    </tr>\n",
       "    <tr>\n",
       "      <th>7</th>\n",
       "      <td>BMW 330e</td>\n",
       "      <td>2.0</td>\n",
       "      <td>4</td>\n",
       "      <td>SemiAuto-8</td>\n",
       "      <td>2WD</td>\n",
       "      <td>Gasoline/Electricity</td>\n",
       "      <td>FA</td>\n",
       "      <td>small car</td>\n",
       "      <td>3.0</td>\n",
       "      <td>28/66</td>\n",
       "      <td>34/78</td>\n",
       "      <td>30/71</td>\n",
       "      <td>10</td>\n",
       "      <td>Yes</td>\n",
       "    </tr>\n",
       "    <tr>\n",
       "      <th>8</th>\n",
       "      <td>BMW 530e</td>\n",
       "      <td>2.0</td>\n",
       "      <td>4</td>\n",
       "      <td>SemiAuto-8</td>\n",
       "      <td>2WD</td>\n",
       "      <td>Gasoline/Electricity</td>\n",
       "      <td>CA</td>\n",
       "      <td>small car</td>\n",
       "      <td>7.0</td>\n",
       "      <td>27/70</td>\n",
       "      <td>31/75</td>\n",
       "      <td>29/72</td>\n",
       "      <td>10</td>\n",
       "      <td>Elite</td>\n",
       "    </tr>\n",
       "  </tbody>\n",
       "</table>\n",
       "</div>"
      ],
      "text/plain": [
       "            Model  Displ  Cyl       Trans Drive                  Fuel  \\\n",
       "0  AUDI A3 e-tron    1.4    4       AMS-6   2WD  Gasoline/Electricity   \n",
       "1  AUDI A3 e-tron    1.4    4       AMS-6   2WD  Gasoline/Electricity   \n",
       "6        BMW 330e    2.0    4  SemiAuto-8   2WD  Gasoline/Electricity   \n",
       "7        BMW 330e    2.0    4  SemiAuto-8   2WD  Gasoline/Electricity   \n",
       "8        BMW 530e    2.0    4  SemiAuto-8   2WD  Gasoline/Electricity   \n",
       "\n",
       "  Sales Area  Veh Class  Air Pollution Score City MPG Hwy MPG Cmb MPG  \\\n",
       "0         CA  small car                  7.0    34/81   39/86   36/83   \n",
       "1         FA  small car                  7.0    34/81   39/86   36/83   \n",
       "6         CA  small car                  3.0    28/66   34/78   30/71   \n",
       "7         FA  small car                  3.0    28/66   34/78   30/71   \n",
       "8         CA  small car                  7.0    27/70   31/75   29/72   \n",
       "\n",
       "   Greenhouse Gas Score SmartWay  \n",
       "0                    10    Elite  \n",
       "1                    10    Elite  \n",
       "6                    10      Yes  \n",
       "7                    10      Yes  \n",
       "8                    10    Elite  "
      ]
     },
     "execution_count": 80,
     "metadata": {},
     "output_type": "execute_result"
    }
   ],
   "source": [
    "df1.head()"
   ]
  },
  {
   "cell_type": "code",
   "execution_count": 85,
   "id": "79047a02",
   "metadata": {},
   "outputs": [
    {
     "data": {
      "text/html": [
       "<div>\n",
       "<style scoped>\n",
       "    .dataframe tbody tr th:only-of-type {\n",
       "        vertical-align: middle;\n",
       "    }\n",
       "\n",
       "    .dataframe tbody tr th {\n",
       "        vertical-align: top;\n",
       "    }\n",
       "\n",
       "    .dataframe thead th {\n",
       "        text-align: right;\n",
       "    }\n",
       "</style>\n",
       "<table border=\"1\" class=\"dataframe\">\n",
       "  <thead>\n",
       "    <tr style=\"text-align: right;\">\n",
       "      <th></th>\n",
       "      <th>Model</th>\n",
       "      <th>Displ</th>\n",
       "      <th>Cyl</th>\n",
       "      <th>Trans</th>\n",
       "      <th>Drive</th>\n",
       "      <th>Fuel</th>\n",
       "      <th>Sales Area</th>\n",
       "      <th>Veh Class</th>\n",
       "      <th>Air Pollution Score</th>\n",
       "      <th>City MPG</th>\n",
       "      <th>Hwy MPG</th>\n",
       "      <th>Cmb MPG</th>\n",
       "      <th>Greenhouse Gas Score</th>\n",
       "      <th>SmartWay</th>\n",
       "    </tr>\n",
       "  </thead>\n",
       "  <tbody>\n",
       "    <tr>\n",
       "      <th>0</th>\n",
       "      <td>AUDI A3 e-tron</td>\n",
       "      <td>1.4</td>\n",
       "      <td>4</td>\n",
       "      <td>AMS-6</td>\n",
       "      <td>2WD</td>\n",
       "      <td>Gasoline/Electricity</td>\n",
       "      <td>CA</td>\n",
       "      <td>small car</td>\n",
       "      <td>7.0</td>\n",
       "      <td>34/81</td>\n",
       "      <td>39/86</td>\n",
       "      <td>36/83</td>\n",
       "      <td>10</td>\n",
       "      <td>Elite</td>\n",
       "    </tr>\n",
       "    <tr>\n",
       "      <th>1</th>\n",
       "      <td>AUDI A3 e-tron</td>\n",
       "      <td>1.4</td>\n",
       "      <td>4</td>\n",
       "      <td>AMS-6</td>\n",
       "      <td>2WD</td>\n",
       "      <td>Gasoline/Electricity</td>\n",
       "      <td>FA</td>\n",
       "      <td>small car</td>\n",
       "      <td>7.0</td>\n",
       "      <td>34/81</td>\n",
       "      <td>39/86</td>\n",
       "      <td>36/83</td>\n",
       "      <td>10</td>\n",
       "      <td>Elite</td>\n",
       "    </tr>\n",
       "    <tr>\n",
       "      <th>6</th>\n",
       "      <td>BMW 330e</td>\n",
       "      <td>2.0</td>\n",
       "      <td>4</td>\n",
       "      <td>SemiAuto-8</td>\n",
       "      <td>2WD</td>\n",
       "      <td>Gasoline/Electricity</td>\n",
       "      <td>CA</td>\n",
       "      <td>small car</td>\n",
       "      <td>3.0</td>\n",
       "      <td>28/66</td>\n",
       "      <td>34/78</td>\n",
       "      <td>30/71</td>\n",
       "      <td>10</td>\n",
       "      <td>Yes</td>\n",
       "    </tr>\n",
       "    <tr>\n",
       "      <th>7</th>\n",
       "      <td>BMW 330e</td>\n",
       "      <td>2.0</td>\n",
       "      <td>4</td>\n",
       "      <td>SemiAuto-8</td>\n",
       "      <td>2WD</td>\n",
       "      <td>Gasoline/Electricity</td>\n",
       "      <td>FA</td>\n",
       "      <td>small car</td>\n",
       "      <td>3.0</td>\n",
       "      <td>28/66</td>\n",
       "      <td>34/78</td>\n",
       "      <td>30/71</td>\n",
       "      <td>10</td>\n",
       "      <td>Yes</td>\n",
       "    </tr>\n",
       "    <tr>\n",
       "      <th>8</th>\n",
       "      <td>BMW 530e</td>\n",
       "      <td>2.0</td>\n",
       "      <td>4</td>\n",
       "      <td>SemiAuto-8</td>\n",
       "      <td>2WD</td>\n",
       "      <td>Gasoline/Electricity</td>\n",
       "      <td>CA</td>\n",
       "      <td>small car</td>\n",
       "      <td>7.0</td>\n",
       "      <td>27/70</td>\n",
       "      <td>31/75</td>\n",
       "      <td>29/72</td>\n",
       "      <td>10</td>\n",
       "      <td>Elite</td>\n",
       "    </tr>\n",
       "  </tbody>\n",
       "</table>\n",
       "</div>"
      ],
      "text/plain": [
       "            Model  Displ  Cyl       Trans Drive                  Fuel  \\\n",
       "0  AUDI A3 e-tron    1.4    4       AMS-6   2WD  Gasoline/Electricity   \n",
       "1  AUDI A3 e-tron    1.4    4       AMS-6   2WD  Gasoline/Electricity   \n",
       "6        BMW 330e    2.0    4  SemiAuto-8   2WD  Gasoline/Electricity   \n",
       "7        BMW 330e    2.0    4  SemiAuto-8   2WD  Gasoline/Electricity   \n",
       "8        BMW 530e    2.0    4  SemiAuto-8   2WD  Gasoline/Electricity   \n",
       "\n",
       "  Sales Area  Veh Class  Air Pollution Score City MPG Hwy MPG Cmb MPG  \\\n",
       "0         CA  small car                  7.0    34/81   39/86   36/83   \n",
       "1         FA  small car                  7.0    34/81   39/86   36/83   \n",
       "6         CA  small car                  3.0    28/66   34/78   30/71   \n",
       "7         FA  small car                  3.0    28/66   34/78   30/71   \n",
       "8         CA  small car                  7.0    27/70   31/75   29/72   \n",
       "\n",
       "   Greenhouse Gas Score SmartWay  \n",
       "0                    10    Elite  \n",
       "1                    10    Elite  \n",
       "6                    10      Yes  \n",
       "7                    10      Yes  \n",
       "8                    10    Elite  "
      ]
     },
     "execution_count": 85,
     "metadata": {},
     "output_type": "execute_result"
    }
   ],
   "source": [
    "df2.head()"
   ]
  },
  {
   "cell_type": "code",
   "execution_count": 86,
   "id": "1501a62d",
   "metadata": {},
   "outputs": [],
   "source": [
    "column_to_be_splited = [\"Fuel\",\"City MPG\",\"Hwy MPG\",\"Cmb MPG\"]"
   ]
  },
  {
   "cell_type": "code",
   "execution_count": 87,
   "id": "94d1b3fc",
   "metadata": {},
   "outputs": [],
   "source": [
    "for col in column_to_be_splited:\n",
    "    df1[col]=df1[col].apply(lambda x: x.split(\"/\")[0])\n",
    "    df2[col]=df2[col].apply(lambda x: x.split(\"/\")[1])"
   ]
  },
  {
   "cell_type": "code",
   "execution_count": 90,
   "id": "de351ac1",
   "metadata": {},
   "outputs": [
    {
     "data": {
      "text/html": [
       "<div>\n",
       "<style scoped>\n",
       "    .dataframe tbody tr th:only-of-type {\n",
       "        vertical-align: middle;\n",
       "    }\n",
       "\n",
       "    .dataframe tbody tr th {\n",
       "        vertical-align: top;\n",
       "    }\n",
       "\n",
       "    .dataframe thead th {\n",
       "        text-align: right;\n",
       "    }\n",
       "</style>\n",
       "<table border=\"1\" class=\"dataframe\">\n",
       "  <thead>\n",
       "    <tr style=\"text-align: right;\">\n",
       "      <th></th>\n",
       "      <th>Model</th>\n",
       "      <th>Displ</th>\n",
       "      <th>Cyl</th>\n",
       "      <th>Trans</th>\n",
       "      <th>Drive</th>\n",
       "      <th>Fuel</th>\n",
       "      <th>Sales Area</th>\n",
       "      <th>Veh Class</th>\n",
       "      <th>Air Pollution Score</th>\n",
       "      <th>City MPG</th>\n",
       "      <th>Hwy MPG</th>\n",
       "      <th>Cmb MPG</th>\n",
       "      <th>Greenhouse Gas Score</th>\n",
       "      <th>SmartWay</th>\n",
       "    </tr>\n",
       "  </thead>\n",
       "  <tbody>\n",
       "    <tr>\n",
       "      <th>0</th>\n",
       "      <td>AUDI A3 e-tron</td>\n",
       "      <td>1.4</td>\n",
       "      <td>4</td>\n",
       "      <td>AMS-6</td>\n",
       "      <td>2WD</td>\n",
       "      <td>Gasoline</td>\n",
       "      <td>CA</td>\n",
       "      <td>small car</td>\n",
       "      <td>7.0</td>\n",
       "      <td>34</td>\n",
       "      <td>39</td>\n",
       "      <td>36</td>\n",
       "      <td>10</td>\n",
       "      <td>Elite</td>\n",
       "    </tr>\n",
       "    <tr>\n",
       "      <th>1</th>\n",
       "      <td>AUDI A3 e-tron</td>\n",
       "      <td>1.4</td>\n",
       "      <td>4</td>\n",
       "      <td>AMS-6</td>\n",
       "      <td>2WD</td>\n",
       "      <td>Gasoline</td>\n",
       "      <td>FA</td>\n",
       "      <td>small car</td>\n",
       "      <td>7.0</td>\n",
       "      <td>34</td>\n",
       "      <td>39</td>\n",
       "      <td>36</td>\n",
       "      <td>10</td>\n",
       "      <td>Elite</td>\n",
       "    </tr>\n",
       "    <tr>\n",
       "      <th>6</th>\n",
       "      <td>BMW 330e</td>\n",
       "      <td>2.0</td>\n",
       "      <td>4</td>\n",
       "      <td>SemiAuto-8</td>\n",
       "      <td>2WD</td>\n",
       "      <td>Gasoline</td>\n",
       "      <td>CA</td>\n",
       "      <td>small car</td>\n",
       "      <td>3.0</td>\n",
       "      <td>28</td>\n",
       "      <td>34</td>\n",
       "      <td>30</td>\n",
       "      <td>10</td>\n",
       "      <td>Yes</td>\n",
       "    </tr>\n",
       "    <tr>\n",
       "      <th>7</th>\n",
       "      <td>BMW 330e</td>\n",
       "      <td>2.0</td>\n",
       "      <td>4</td>\n",
       "      <td>SemiAuto-8</td>\n",
       "      <td>2WD</td>\n",
       "      <td>Gasoline</td>\n",
       "      <td>FA</td>\n",
       "      <td>small car</td>\n",
       "      <td>3.0</td>\n",
       "      <td>28</td>\n",
       "      <td>34</td>\n",
       "      <td>30</td>\n",
       "      <td>10</td>\n",
       "      <td>Yes</td>\n",
       "    </tr>\n",
       "    <tr>\n",
       "      <th>8</th>\n",
       "      <td>BMW 530e</td>\n",
       "      <td>2.0</td>\n",
       "      <td>4</td>\n",
       "      <td>SemiAuto-8</td>\n",
       "      <td>2WD</td>\n",
       "      <td>Gasoline</td>\n",
       "      <td>CA</td>\n",
       "      <td>small car</td>\n",
       "      <td>7.0</td>\n",
       "      <td>27</td>\n",
       "      <td>31</td>\n",
       "      <td>29</td>\n",
       "      <td>10</td>\n",
       "      <td>Elite</td>\n",
       "    </tr>\n",
       "  </tbody>\n",
       "</table>\n",
       "</div>"
      ],
      "text/plain": [
       "            Model  Displ  Cyl       Trans Drive      Fuel Sales Area  \\\n",
       "0  AUDI A3 e-tron    1.4    4       AMS-6   2WD  Gasoline         CA   \n",
       "1  AUDI A3 e-tron    1.4    4       AMS-6   2WD  Gasoline         FA   \n",
       "6        BMW 330e    2.0    4  SemiAuto-8   2WD  Gasoline         CA   \n",
       "7        BMW 330e    2.0    4  SemiAuto-8   2WD  Gasoline         FA   \n",
       "8        BMW 530e    2.0    4  SemiAuto-8   2WD  Gasoline         CA   \n",
       "\n",
       "   Veh Class  Air Pollution Score City MPG Hwy MPG Cmb MPG  \\\n",
       "0  small car                  7.0       34      39      36   \n",
       "1  small car                  7.0       34      39      36   \n",
       "6  small car                  3.0       28      34      30   \n",
       "7  small car                  3.0       28      34      30   \n",
       "8  small car                  7.0       27      31      29   \n",
       "\n",
       "   Greenhouse Gas Score SmartWay  \n",
       "0                    10    Elite  \n",
       "1                    10    Elite  \n",
       "6                    10      Yes  \n",
       "7                    10      Yes  \n",
       "8                    10    Elite  "
      ]
     },
     "execution_count": 90,
     "metadata": {},
     "output_type": "execute_result"
    }
   ],
   "source": [
    "df1.head()"
   ]
  },
  {
   "cell_type": "code",
   "execution_count": 91,
   "id": "121c404a",
   "metadata": {},
   "outputs": [
    {
     "data": {
      "text/html": [
       "<div>\n",
       "<style scoped>\n",
       "    .dataframe tbody tr th:only-of-type {\n",
       "        vertical-align: middle;\n",
       "    }\n",
       "\n",
       "    .dataframe tbody tr th {\n",
       "        vertical-align: top;\n",
       "    }\n",
       "\n",
       "    .dataframe thead th {\n",
       "        text-align: right;\n",
       "    }\n",
       "</style>\n",
       "<table border=\"1\" class=\"dataframe\">\n",
       "  <thead>\n",
       "    <tr style=\"text-align: right;\">\n",
       "      <th></th>\n",
       "      <th>Model</th>\n",
       "      <th>Displ</th>\n",
       "      <th>Cyl</th>\n",
       "      <th>Trans</th>\n",
       "      <th>Drive</th>\n",
       "      <th>Fuel</th>\n",
       "      <th>Sales Area</th>\n",
       "      <th>Veh Class</th>\n",
       "      <th>Air Pollution Score</th>\n",
       "      <th>City MPG</th>\n",
       "      <th>Hwy MPG</th>\n",
       "      <th>Cmb MPG</th>\n",
       "      <th>Greenhouse Gas Score</th>\n",
       "      <th>SmartWay</th>\n",
       "    </tr>\n",
       "  </thead>\n",
       "  <tbody>\n",
       "    <tr>\n",
       "      <th>0</th>\n",
       "      <td>AUDI A3 e-tron</td>\n",
       "      <td>1.4</td>\n",
       "      <td>4</td>\n",
       "      <td>AMS-6</td>\n",
       "      <td>2WD</td>\n",
       "      <td>Electricity</td>\n",
       "      <td>CA</td>\n",
       "      <td>small car</td>\n",
       "      <td>7.0</td>\n",
       "      <td>81</td>\n",
       "      <td>86</td>\n",
       "      <td>83</td>\n",
       "      <td>10</td>\n",
       "      <td>Elite</td>\n",
       "    </tr>\n",
       "    <tr>\n",
       "      <th>1</th>\n",
       "      <td>AUDI A3 e-tron</td>\n",
       "      <td>1.4</td>\n",
       "      <td>4</td>\n",
       "      <td>AMS-6</td>\n",
       "      <td>2WD</td>\n",
       "      <td>Electricity</td>\n",
       "      <td>FA</td>\n",
       "      <td>small car</td>\n",
       "      <td>7.0</td>\n",
       "      <td>81</td>\n",
       "      <td>86</td>\n",
       "      <td>83</td>\n",
       "      <td>10</td>\n",
       "      <td>Elite</td>\n",
       "    </tr>\n",
       "    <tr>\n",
       "      <th>6</th>\n",
       "      <td>BMW 330e</td>\n",
       "      <td>2.0</td>\n",
       "      <td>4</td>\n",
       "      <td>SemiAuto-8</td>\n",
       "      <td>2WD</td>\n",
       "      <td>Electricity</td>\n",
       "      <td>CA</td>\n",
       "      <td>small car</td>\n",
       "      <td>3.0</td>\n",
       "      <td>66</td>\n",
       "      <td>78</td>\n",
       "      <td>71</td>\n",
       "      <td>10</td>\n",
       "      <td>Yes</td>\n",
       "    </tr>\n",
       "    <tr>\n",
       "      <th>7</th>\n",
       "      <td>BMW 330e</td>\n",
       "      <td>2.0</td>\n",
       "      <td>4</td>\n",
       "      <td>SemiAuto-8</td>\n",
       "      <td>2WD</td>\n",
       "      <td>Electricity</td>\n",
       "      <td>FA</td>\n",
       "      <td>small car</td>\n",
       "      <td>3.0</td>\n",
       "      <td>66</td>\n",
       "      <td>78</td>\n",
       "      <td>71</td>\n",
       "      <td>10</td>\n",
       "      <td>Yes</td>\n",
       "    </tr>\n",
       "    <tr>\n",
       "      <th>8</th>\n",
       "      <td>BMW 530e</td>\n",
       "      <td>2.0</td>\n",
       "      <td>4</td>\n",
       "      <td>SemiAuto-8</td>\n",
       "      <td>2WD</td>\n",
       "      <td>Electricity</td>\n",
       "      <td>CA</td>\n",
       "      <td>small car</td>\n",
       "      <td>7.0</td>\n",
       "      <td>70</td>\n",
       "      <td>75</td>\n",
       "      <td>72</td>\n",
       "      <td>10</td>\n",
       "      <td>Elite</td>\n",
       "    </tr>\n",
       "  </tbody>\n",
       "</table>\n",
       "</div>"
      ],
      "text/plain": [
       "            Model  Displ  Cyl       Trans Drive         Fuel Sales Area  \\\n",
       "0  AUDI A3 e-tron    1.4    4       AMS-6   2WD  Electricity         CA   \n",
       "1  AUDI A3 e-tron    1.4    4       AMS-6   2WD  Electricity         FA   \n",
       "6        BMW 330e    2.0    4  SemiAuto-8   2WD  Electricity         CA   \n",
       "7        BMW 330e    2.0    4  SemiAuto-8   2WD  Electricity         FA   \n",
       "8        BMW 530e    2.0    4  SemiAuto-8   2WD  Electricity         CA   \n",
       "\n",
       "   Veh Class  Air Pollution Score City MPG Hwy MPG Cmb MPG  \\\n",
       "0  small car                  7.0       81      86      83   \n",
       "1  small car                  7.0       81      86      83   \n",
       "6  small car                  3.0       66      78      71   \n",
       "7  small car                  3.0       66      78      71   \n",
       "8  small car                  7.0       70      75      72   \n",
       "\n",
       "   Greenhouse Gas Score SmartWay  \n",
       "0                    10    Elite  \n",
       "1                    10    Elite  \n",
       "6                    10      Yes  \n",
       "7                    10      Yes  \n",
       "8                    10    Elite  "
      ]
     },
     "execution_count": 91,
     "metadata": {},
     "output_type": "execute_result"
    }
   ],
   "source": [
    "df2.head()"
   ]
  },
  {
   "cell_type": "code",
   "execution_count": 92,
   "id": "064cbcfe",
   "metadata": {},
   "outputs": [
    {
     "name": "stderr",
     "output_type": "stream",
     "text": [
      "C:\\Users\\siddh\\AppData\\Local\\Temp\\ipykernel_2020\\303466880.py:1: FutureWarning: The frame.append method is deprecated and will be removed from pandas in a future version. Use pandas.concat instead.\n",
      "  new_rows = df1.append(df2)\n"
     ]
    }
   ],
   "source": [
    "new_rows = df1.append(df2)"
   ]
  },
  {
   "cell_type": "code",
   "execution_count": 93,
   "id": "f91f9c23",
   "metadata": {},
   "outputs": [
    {
     "data": {
      "text/html": [
       "<div>\n",
       "<style scoped>\n",
       "    .dataframe tbody tr th:only-of-type {\n",
       "        vertical-align: middle;\n",
       "    }\n",
       "\n",
       "    .dataframe tbody tr th {\n",
       "        vertical-align: top;\n",
       "    }\n",
       "\n",
       "    .dataframe thead th {\n",
       "        text-align: right;\n",
       "    }\n",
       "</style>\n",
       "<table border=\"1\" class=\"dataframe\">\n",
       "  <thead>\n",
       "    <tr style=\"text-align: right;\">\n",
       "      <th></th>\n",
       "      <th>Model</th>\n",
       "      <th>Displ</th>\n",
       "      <th>Cyl</th>\n",
       "      <th>Trans</th>\n",
       "      <th>Drive</th>\n",
       "      <th>Fuel</th>\n",
       "      <th>Sales Area</th>\n",
       "      <th>Veh Class</th>\n",
       "      <th>Air Pollution Score</th>\n",
       "      <th>City MPG</th>\n",
       "      <th>Hwy MPG</th>\n",
       "      <th>Cmb MPG</th>\n",
       "      <th>Greenhouse Gas Score</th>\n",
       "      <th>SmartWay</th>\n",
       "    </tr>\n",
       "  </thead>\n",
       "  <tbody>\n",
       "    <tr>\n",
       "      <th>0</th>\n",
       "      <td>AUDI A3 e-tron</td>\n",
       "      <td>1.4</td>\n",
       "      <td>4</td>\n",
       "      <td>AMS-6</td>\n",
       "      <td>2WD</td>\n",
       "      <td>Gasoline</td>\n",
       "      <td>CA</td>\n",
       "      <td>small car</td>\n",
       "      <td>7.0</td>\n",
       "      <td>34</td>\n",
       "      <td>39</td>\n",
       "      <td>36</td>\n",
       "      <td>10</td>\n",
       "      <td>Elite</td>\n",
       "    </tr>\n",
       "    <tr>\n",
       "      <th>1</th>\n",
       "      <td>AUDI A3 e-tron</td>\n",
       "      <td>1.4</td>\n",
       "      <td>4</td>\n",
       "      <td>AMS-6</td>\n",
       "      <td>2WD</td>\n",
       "      <td>Gasoline</td>\n",
       "      <td>FA</td>\n",
       "      <td>small car</td>\n",
       "      <td>7.0</td>\n",
       "      <td>34</td>\n",
       "      <td>39</td>\n",
       "      <td>36</td>\n",
       "      <td>10</td>\n",
       "      <td>Elite</td>\n",
       "    </tr>\n",
       "    <tr>\n",
       "      <th>6</th>\n",
       "      <td>BMW 330e</td>\n",
       "      <td>2.0</td>\n",
       "      <td>4</td>\n",
       "      <td>SemiAuto-8</td>\n",
       "      <td>2WD</td>\n",
       "      <td>Gasoline</td>\n",
       "      <td>CA</td>\n",
       "      <td>small car</td>\n",
       "      <td>3.0</td>\n",
       "      <td>28</td>\n",
       "      <td>34</td>\n",
       "      <td>30</td>\n",
       "      <td>10</td>\n",
       "      <td>Yes</td>\n",
       "    </tr>\n",
       "    <tr>\n",
       "      <th>7</th>\n",
       "      <td>BMW 330e</td>\n",
       "      <td>2.0</td>\n",
       "      <td>4</td>\n",
       "      <td>SemiAuto-8</td>\n",
       "      <td>2WD</td>\n",
       "      <td>Gasoline</td>\n",
       "      <td>FA</td>\n",
       "      <td>small car</td>\n",
       "      <td>3.0</td>\n",
       "      <td>28</td>\n",
       "      <td>34</td>\n",
       "      <td>30</td>\n",
       "      <td>10</td>\n",
       "      <td>Yes</td>\n",
       "    </tr>\n",
       "    <tr>\n",
       "      <th>8</th>\n",
       "      <td>BMW 530e</td>\n",
       "      <td>2.0</td>\n",
       "      <td>4</td>\n",
       "      <td>SemiAuto-8</td>\n",
       "      <td>2WD</td>\n",
       "      <td>Gasoline</td>\n",
       "      <td>CA</td>\n",
       "      <td>small car</td>\n",
       "      <td>7.0</td>\n",
       "      <td>27</td>\n",
       "      <td>31</td>\n",
       "      <td>29</td>\n",
       "      <td>10</td>\n",
       "      <td>Elite</td>\n",
       "    </tr>\n",
       "    <tr>\n",
       "      <th>...</th>\n",
       "      <td>...</td>\n",
       "      <td>...</td>\n",
       "      <td>...</td>\n",
       "      <td>...</td>\n",
       "      <td>...</td>\n",
       "      <td>...</td>\n",
       "      <td>...</td>\n",
       "      <td>...</td>\n",
       "      <td>...</td>\n",
       "      <td>...</td>\n",
       "      <td>...</td>\n",
       "      <td>...</td>\n",
       "      <td>...</td>\n",
       "      <td>...</td>\n",
       "    </tr>\n",
       "    <tr>\n",
       "      <th>412</th>\n",
       "      <td>VOLVO S90</td>\n",
       "      <td>2.0</td>\n",
       "      <td>4</td>\n",
       "      <td>SemiAuto-8</td>\n",
       "      <td>4WD</td>\n",
       "      <td>Electricity</td>\n",
       "      <td>FA</td>\n",
       "      <td>midsize car</td>\n",
       "      <td>7.0</td>\n",
       "      <td>70</td>\n",
       "      <td>72</td>\n",
       "      <td>71</td>\n",
       "      <td>10</td>\n",
       "      <td>Elite</td>\n",
       "    </tr>\n",
       "    <tr>\n",
       "      <th>413</th>\n",
       "      <td>VOLVO XC60</td>\n",
       "      <td>2.0</td>\n",
       "      <td>4</td>\n",
       "      <td>SemiAuto-8</td>\n",
       "      <td>4WD</td>\n",
       "      <td>Electricity</td>\n",
       "      <td>CA</td>\n",
       "      <td>small SUV</td>\n",
       "      <td>7.0</td>\n",
       "      <td>60</td>\n",
       "      <td>58</td>\n",
       "      <td>59</td>\n",
       "      <td>10</td>\n",
       "      <td>Elite</td>\n",
       "    </tr>\n",
       "    <tr>\n",
       "      <th>414</th>\n",
       "      <td>VOLVO XC60</td>\n",
       "      <td>2.0</td>\n",
       "      <td>4</td>\n",
       "      <td>SemiAuto-8</td>\n",
       "      <td>4WD</td>\n",
       "      <td>Electricity</td>\n",
       "      <td>FA</td>\n",
       "      <td>small SUV</td>\n",
       "      <td>7.0</td>\n",
       "      <td>60</td>\n",
       "      <td>58</td>\n",
       "      <td>59</td>\n",
       "      <td>10</td>\n",
       "      <td>Elite</td>\n",
       "    </tr>\n",
       "    <tr>\n",
       "      <th>415</th>\n",
       "      <td>VOLVO XC90</td>\n",
       "      <td>2.0</td>\n",
       "      <td>4</td>\n",
       "      <td>SemiAuto-8</td>\n",
       "      <td>4WD</td>\n",
       "      <td>Electricity</td>\n",
       "      <td>CA</td>\n",
       "      <td>standard SUV</td>\n",
       "      <td>7.0</td>\n",
       "      <td>63</td>\n",
       "      <td>61</td>\n",
       "      <td>62</td>\n",
       "      <td>10</td>\n",
       "      <td>Elite</td>\n",
       "    </tr>\n",
       "    <tr>\n",
       "      <th>416</th>\n",
       "      <td>VOLVO XC90</td>\n",
       "      <td>2.0</td>\n",
       "      <td>4</td>\n",
       "      <td>SemiAuto-8</td>\n",
       "      <td>4WD</td>\n",
       "      <td>Electricity</td>\n",
       "      <td>FA</td>\n",
       "      <td>standard SUV</td>\n",
       "      <td>7.0</td>\n",
       "      <td>63</td>\n",
       "      <td>61</td>\n",
       "      <td>62</td>\n",
       "      <td>10</td>\n",
       "      <td>Elite</td>\n",
       "    </tr>\n",
       "  </tbody>\n",
       "</table>\n",
       "<p>136 rows × 14 columns</p>\n",
       "</div>"
      ],
      "text/plain": [
       "              Model  Displ  Cyl       Trans Drive         Fuel Sales Area  \\\n",
       "0    AUDI A3 e-tron    1.4    4       AMS-6   2WD     Gasoline         CA   \n",
       "1    AUDI A3 e-tron    1.4    4       AMS-6   2WD     Gasoline         FA   \n",
       "6          BMW 330e    2.0    4  SemiAuto-8   2WD     Gasoline         CA   \n",
       "7          BMW 330e    2.0    4  SemiAuto-8   2WD     Gasoline         FA   \n",
       "8          BMW 530e    2.0    4  SemiAuto-8   2WD     Gasoline         CA   \n",
       "..              ...    ...  ...         ...   ...          ...        ...   \n",
       "412       VOLVO S90    2.0    4  SemiAuto-8   4WD  Electricity         FA   \n",
       "413      VOLVO XC60    2.0    4  SemiAuto-8   4WD  Electricity         CA   \n",
       "414      VOLVO XC60    2.0    4  SemiAuto-8   4WD  Electricity         FA   \n",
       "415      VOLVO XC90    2.0    4  SemiAuto-8   4WD  Electricity         CA   \n",
       "416      VOLVO XC90    2.0    4  SemiAuto-8   4WD  Electricity         FA   \n",
       "\n",
       "        Veh Class  Air Pollution Score City MPG Hwy MPG Cmb MPG  \\\n",
       "0       small car                  7.0       34      39      36   \n",
       "1       small car                  7.0       34      39      36   \n",
       "6       small car                  3.0       28      34      30   \n",
       "7       small car                  3.0       28      34      30   \n",
       "8       small car                  7.0       27      31      29   \n",
       "..            ...                  ...      ...     ...     ...   \n",
       "412   midsize car                  7.0       70      72      71   \n",
       "413     small SUV                  7.0       60      58      59   \n",
       "414     small SUV                  7.0       60      58      59   \n",
       "415  standard SUV                  7.0       63      61      62   \n",
       "416  standard SUV                  7.0       63      61      62   \n",
       "\n",
       "     Greenhouse Gas Score SmartWay  \n",
       "0                      10    Elite  \n",
       "1                      10    Elite  \n",
       "6                      10      Yes  \n",
       "7                      10      Yes  \n",
       "8                      10    Elite  \n",
       "..                    ...      ...  \n",
       "412                    10    Elite  \n",
       "413                    10    Elite  \n",
       "414                    10    Elite  \n",
       "415                    10    Elite  \n",
       "416                    10    Elite  \n",
       "\n",
       "[136 rows x 14 columns]"
      ]
     },
     "execution_count": 93,
     "metadata": {},
     "output_type": "execute_result"
    }
   ],
   "source": [
    "new_rows"
   ]
  },
  {
   "cell_type": "code",
   "execution_count": 94,
   "id": "ce4dac9c",
   "metadata": {},
   "outputs": [],
   "source": [
    "df_18.drop(hb_18.index,inplace=True)"
   ]
  },
  {
   "cell_type": "code",
   "execution_count": 95,
   "id": "09d64466",
   "metadata": {},
   "outputs": [
    {
     "name": "stderr",
     "output_type": "stream",
     "text": [
      "C:\\Users\\siddh\\AppData\\Local\\Temp\\ipykernel_2020\\3061612467.py:1: FutureWarning: The frame.append method is deprecated and will be removed from pandas in a future version. Use pandas.concat instead.\n",
      "  df_18=df_18.append(new_rows,ignore_index=True)\n"
     ]
    }
   ],
   "source": [
    "df_18=df_18.append(new_rows,ignore_index=True)"
   ]
  },
  {
   "cell_type": "code",
   "execution_count": 97,
   "id": "2a59fff9",
   "metadata": {},
   "outputs": [
    {
     "data": {
      "text/plain": [
       "0"
      ]
     },
     "execution_count": 97,
     "metadata": {},
     "output_type": "execute_result"
    }
   ],
   "source": [
    "df_18[\"City MPG\"].str.contains(\"/\").sum()"
   ]
  },
  {
   "cell_type": "code",
   "execution_count": 98,
   "id": "6aefeeca",
   "metadata": {},
   "outputs": [
    {
     "data": {
      "text/plain": [
       "(432, 14)"
      ]
     },
     "execution_count": 98,
     "metadata": {},
     "output_type": "execute_result"
    }
   ],
   "source": [
    "df_18.shape"
   ]
  },
  {
   "cell_type": "code",
   "execution_count": 100,
   "id": "acdbedf0",
   "metadata": {},
   "outputs": [],
   "source": [
    "df_18[\"City MPG\"] = df_18[\"City MPG\"].astype(float)\n",
    "df_18[\"Hwy MPG\"] = df_18[\"Hwy MPG\"].astype(float)\n",
    "df_18[\"Cmb MPG\"] = df_18[\"Cmb MPG\"].astype(float)"
   ]
  },
  {
   "cell_type": "code",
   "execution_count": 101,
   "id": "1c122735",
   "metadata": {},
   "outputs": [
    {
     "name": "stdout",
     "output_type": "stream",
     "text": [
      "<class 'pandas.core.frame.DataFrame'>\n",
      "RangeIndex: 432 entries, 0 to 431\n",
      "Data columns (total 14 columns):\n",
      " #   Column                Non-Null Count  Dtype  \n",
      "---  ------                --------------  -----  \n",
      " 0   Model                 432 non-null    object \n",
      " 1   Displ                 432 non-null    float64\n",
      " 2   Cyl                   432 non-null    int32  \n",
      " 3   Trans                 432 non-null    object \n",
      " 4   Drive                 432 non-null    object \n",
      " 5   Fuel                  432 non-null    object \n",
      " 6   Sales Area            432 non-null    object \n",
      " 7   Veh Class             432 non-null    object \n",
      " 8   Air Pollution Score   432 non-null    float64\n",
      " 9   City MPG              432 non-null    float64\n",
      " 10  Hwy MPG               432 non-null    float64\n",
      " 11  Cmb MPG               432 non-null    float64\n",
      " 12  Greenhouse Gas Score  432 non-null    int64  \n",
      " 13  SmartWay              432 non-null    object \n",
      "dtypes: float64(5), int32(1), int64(1), object(7)\n",
      "memory usage: 45.7+ KB\n"
     ]
    }
   ],
   "source": [
    "df_18.info()"
   ]
  },
  {
   "cell_type": "code",
   "execution_count": 102,
   "id": "cc7d309c",
   "metadata": {},
   "outputs": [
    {
     "name": "stdout",
     "output_type": "stream",
     "text": [
      "<class 'pandas.core.frame.DataFrame'>\n",
      "Int64Index: 625 entries, 0 to 637\n",
      "Data columns (total 14 columns):\n",
      " #   Column                Non-Null Count  Dtype  \n",
      "---  ------                --------------  -----  \n",
      " 0   Model                 625 non-null    object \n",
      " 1   Displ                 625 non-null    float64\n",
      " 2   Cyl                   625 non-null    int32  \n",
      " 3   Trans                 625 non-null    object \n",
      " 4   Drive                 625 non-null    object \n",
      " 5   Fuel                  625 non-null    object \n",
      " 6   Sales Area            625 non-null    object \n",
      " 7   Veh Class             625 non-null    object \n",
      " 8   Air Pollution Score   625 non-null    float64\n",
      " 9   City MPG              625 non-null    float64\n",
      " 10  Hwy MPG               625 non-null    float64\n",
      " 11  Cmb MPG               625 non-null    float64\n",
      " 12  Greenhouse Gas Score  625 non-null    float64\n",
      " 13  SmartWay              625 non-null    object \n",
      "dtypes: float64(6), int32(1), object(7)\n",
      "memory usage: 70.8+ KB\n"
     ]
    }
   ],
   "source": [
    "df_08.info()"
   ]
  },
  {
   "cell_type": "markdown",
   "id": "e8e96770",
   "metadata": {},
   "source": [
    "## Exploring with Visuals"
   ]
  },
  {
   "cell_type": "code",
   "execution_count": 105,
   "id": "b777d483",
   "metadata": {},
   "outputs": [
    {
     "data": {
      "text/plain": [
       "7.0    265\n",
       "6.0    248\n",
       "9.5     74\n",
       "9.0     23\n",
       "8.0     15\n",
       "Name: Air Pollution Score, dtype: int64"
      ]
     },
     "execution_count": 105,
     "metadata": {},
     "output_type": "execute_result"
    }
   ],
   "source": [
    "df_08[\"Air Pollution Score\"].value_counts()"
   ]
  },
  {
   "cell_type": "code",
   "execution_count": 106,
   "id": "5080392f",
   "metadata": {},
   "outputs": [
    {
     "data": {
      "text/plain": [
       "7.0    192\n",
       "3.0    156\n",
       "5.0     56\n",
       "6.0     24\n",
       "8.0      4\n",
       "Name: Air Pollution Score, dtype: int64"
      ]
     },
     "execution_count": 106,
     "metadata": {},
     "output_type": "execute_result"
    }
   ],
   "source": [
    "df_18[\"Air Pollution Score\"].value_counts()"
   ]
  },
  {
   "cell_type": "code",
   "execution_count": 119,
   "id": "83d29da3",
   "metadata": {},
   "outputs": [
    {
     "data": {
      "text/html": [
       "<div>\n",
       "<style scoped>\n",
       "    .dataframe tbody tr th:only-of-type {\n",
       "        vertical-align: middle;\n",
       "    }\n",
       "\n",
       "    .dataframe tbody tr th {\n",
       "        vertical-align: top;\n",
       "    }\n",
       "\n",
       "    .dataframe thead th {\n",
       "        text-align: right;\n",
       "    }\n",
       "</style>\n",
       "<table border=\"1\" class=\"dataframe\">\n",
       "  <thead>\n",
       "    <tr style=\"text-align: right;\">\n",
       "      <th></th>\n",
       "      <th>Air Pollution Score</th>\n",
       "    </tr>\n",
       "    <tr>\n",
       "      <th>Model</th>\n",
       "      <th></th>\n",
       "    </tr>\n",
       "  </thead>\n",
       "  <tbody>\n",
       "    <tr>\n",
       "      <th>ACURA TL</th>\n",
       "      <td>7.000000</td>\n",
       "    </tr>\n",
       "    <tr>\n",
       "      <th>ACURA TSX</th>\n",
       "      <td>6.000000</td>\n",
       "    </tr>\n",
       "    <tr>\n",
       "      <th>AUDI A3</th>\n",
       "      <td>6.500000</td>\n",
       "    </tr>\n",
       "    <tr>\n",
       "      <th>AUDI A4</th>\n",
       "      <td>6.500000</td>\n",
       "    </tr>\n",
       "    <tr>\n",
       "      <th>AUDI TT Coupe</th>\n",
       "      <td>6.500000</td>\n",
       "    </tr>\n",
       "    <tr>\n",
       "      <th>...</th>\n",
       "      <td>...</td>\n",
       "    </tr>\n",
       "    <tr>\n",
       "      <th>VOLVO C30</th>\n",
       "      <td>6.571429</td>\n",
       "    </tr>\n",
       "    <tr>\n",
       "      <th>VOLVO C70 Convertible</th>\n",
       "      <td>7.000000</td>\n",
       "    </tr>\n",
       "    <tr>\n",
       "      <th>VOLVO S40</th>\n",
       "      <td>6.950000</td>\n",
       "    </tr>\n",
       "    <tr>\n",
       "      <th>VOLVO S60</th>\n",
       "      <td>7.000000</td>\n",
       "    </tr>\n",
       "    <tr>\n",
       "      <th>VOLVO V50</th>\n",
       "      <td>6.950000</td>\n",
       "    </tr>\n",
       "  </tbody>\n",
       "</table>\n",
       "<p>170 rows × 1 columns</p>\n",
       "</div>"
      ],
      "text/plain": [
       "                       Air Pollution Score\n",
       "Model                                     \n",
       "ACURA TL                          7.000000\n",
       "ACURA TSX                         6.000000\n",
       "AUDI A3                           6.500000\n",
       "AUDI A4                           6.500000\n",
       "AUDI TT Coupe                     6.500000\n",
       "...                                    ...\n",
       "VOLVO C30                         6.571429\n",
       "VOLVO C70 Convertible             7.000000\n",
       "VOLVO S40                         6.950000\n",
       "VOLVO S60                         7.000000\n",
       "VOLVO V50                         6.950000\n",
       "\n",
       "[170 rows x 1 columns]"
      ]
     },
     "execution_count": 119,
     "metadata": {},
     "output_type": "execute_result"
    }
   ],
   "source": [
    "df_08.groupby(\"Model\")[[\"Air Pollution Score\"]].mean()"
   ]
  },
  {
   "cell_type": "markdown",
   "id": "a87f1f5a",
   "metadata": {},
   "source": [
    "### Distributions of greenhouse gas score in 2008 and 2018"
   ]
  },
  {
   "cell_type": "code",
   "execution_count": 121,
   "id": "801173d5",
   "metadata": {},
   "outputs": [
    {
     "data": {
      "text/plain": [
       "Text(0, 0.5, 'Frequency')"
      ]
     },
     "execution_count": 121,
     "metadata": {},
     "output_type": "execute_result"
    },
    {
     "data": {
      "image/png": "[encoded data removed]",
      "text/plain": [
       "<Figure size 432x288 with 1 Axes>"
      ]
     },
     "metadata": {
      "needs_background": "light"
     },
     "output_type": "display_data"
    }
   ],
   "source": [
    "df_08[\"Air Pollution Score\"].hist()\n",
    "plt.title(\"Green House Gas Score 2008\")\n",
    "plt.xlabel(\"Green House Gas Score\")\n",
    "plt.ylabel(\"Frequency\")"
   ]
  },
  {
   "cell_type": "code",
   "execution_count": 122,
   "id": "46fa23f2",
   "metadata": {},
   "outputs": [
    {
     "data": {
      "text/plain": [
       "Text(0, 0.5, 'Frequency')"
      ]
     },
     "execution_count": 122,
     "metadata": {},
     "output_type": "execute_result"
    },
    {
     "data": {
      "image/png": "[encoded data removed]",
      "text/plain": [
       "<Figure size 432x288 with 1 Axes>"
      ]
     },
     "metadata": {
      "needs_background": "light"
     },
     "output_type": "display_data"
    }
   ],
   "source": [
    "df_18[\"Air Pollution Score\"].hist()\n",
    "plt.title(\"Green House Gas Score 2018\")\n",
    "plt.xlabel(\"Green House Gas Score\")\n",
    "plt.ylabel(\"Frequency\")"
   ]
  },
  {
   "cell_type": "markdown",
   "id": "e3d8aeff",
   "metadata": {},
   "source": [
    "### Distribution of combined mpg changed from 2008 to 2018"
   ]
  },
  {
   "cell_type": "code",
   "execution_count": 125,
   "id": "2c36c580",
   "metadata": {},
   "outputs": [
    {
     "data": {
      "text/plain": [
       "Text(0, 0.5, 'Frequency')"
      ]
     },
     "execution_count": 125,
     "metadata": {},
     "output_type": "execute_result"
    },
    {
     "data": {
      "image/png": "[encoded data removed]",
      "text/plain": [
       "<Figure size 432x288 with 1 Axes>"
      ]
     },
     "metadata": {
      "needs_background": "light"
     },
     "output_type": "display_data"
    }
   ],
   "source": [
    "df_08[\"Cmb MPG\"].hist(bins=20)\n",
    "plt.title(\"Combined MGP 2008\")\n",
    "plt.xlabel(\"Combined MGP Score\")\n",
    "plt.ylabel(\"Frequency\")"
   ]
  },
  {
   "cell_type": "code",
   "execution_count": 126,
   "id": "b130a50c",
   "metadata": {},
   "outputs": [
    {
     "data": {
      "text/plain": [
       "Text(0, 0.5, 'Frequency')"
      ]
     },
     "execution_count": 126,
     "metadata": {},
     "output_type": "execute_result"
    },
    {
     "data": {
      "image/png": "[encoded data removed]",
      "text/plain": [
       "<Figure size 432x288 with 1 Axes>"
      ]
     },
     "metadata": {
      "needs_background": "light"
     },
     "output_type": "display_data"
    }
   ],
   "source": [
    "df_18[\"Cmb MPG\"].hist(bins=20)\n",
    "plt.title(\"Combined MGP 2018\")\n",
    "plt.xlabel(\"Combined MGP Score\")\n",
    "plt.ylabel(\"Frequency\")"
   ]
  },
  {
   "cell_type": "markdown",
   "id": "839f7712",
   "metadata": {},
   "source": [
    "### Correlation between displacement and combined mpg"
   ]
  },
  {
   "cell_type": "code",
   "execution_count": 127,
   "id": "845c18d7",
   "metadata": {},
   "outputs": [
    {
     "data": {
      "text/plain": [
       "Text(0.5, 1.0, 'Correlation between displacement and combined mpg 2008')"
      ]
     },
     "execution_count": 127,
     "metadata": {},
     "output_type": "execute_result"
    },
    {
     "data": {
      "image/png": "[encoded data removed]",
      "text/plain": [
       "<Figure size 432x288 with 1 Axes>"
      ]
     },
     "metadata": {
      "needs_background": "light"
     },
     "output_type": "display_data"
    }
   ],
   "source": [
    "df_08.plot(x=\"Displ\", y=\"Cmb MPG\",kind=\"scatter\")\n",
    "plt.title(\"Correlation between displacement and combined mpg 2008\")"
   ]
  },
  {
   "cell_type": "code",
   "execution_count": 128,
   "id": "1aff5a25",
   "metadata": {},
   "outputs": [
    {
     "data": {
      "text/plain": [
       "Text(0.5, 1.0, 'Correlation between displacement and combined mpg 2018')"
      ]
     },
     "execution_count": 128,
     "metadata": {},
     "output_type": "execute_result"
    },
    {
     "data": {
      "image/png": "[encoded data removed]",
      "text/plain": [
       "<Figure size 432x288 with 1 Axes>"
      ]
     },
     "metadata": {
      "needs_background": "light"
     },
     "output_type": "display_data"
    }
   ],
   "source": [
    "df_18.plot(x=\"Displ\", y=\"Cmb MPG\",kind=\"scatter\")\n",
    "plt.title(\"Correlation between displacement and combined mpg 2018\")"
   ]
  },
  {
   "cell_type": "markdown",
   "id": "68574b2a",
   "metadata": {},
   "source": [
    "### Correlation between Air Pollution Score and combined mpg"
   ]
  },
  {
   "cell_type": "code",
   "execution_count": 129,
   "id": "0e947ecd",
   "metadata": {},
   "outputs": [
    {
     "data": {
      "text/plain": [
       "Text(0.5, 1.0, 'Correlation between Air Pollution Score and combined mpg 2008')"
      ]
     },
     "execution_count": 129,
     "metadata": {},
     "output_type": "execute_result"
    },
    {
     "data": {
      "image/png": "[encoded data removed]",
      "text/plain": [
       "<Figure size 432x288 with 1 Axes>"
      ]
     },
     "metadata": {
      "needs_background": "light"
     },
     "output_type": "display_data"
    }
   ],
   "source": [
    "df_08.plot(x=\"Air Pollution Score\", y=\"Cmb MPG\",kind=\"scatter\")\n",
    "plt.title(\"Correlation between Air Pollution Score and combined mpg 2008\")"
   ]
  },
  {
   "cell_type": "code",
   "execution_count": 130,
   "id": "527be13b",
   "metadata": {},
   "outputs": [
    {
     "data": {
      "text/plain": [
       "Text(0.5, 1.0, 'Correlation between Air Pollution Score and combined mpg 2018')"
      ]
     },
     "execution_count": 130,
     "metadata": {},
     "output_type": "execute_result"
    },
    {
     "data": {
      "image/png": "[encoded data removed]",
      "text/plain": [
       "<Figure size 432x288 with 1 Axes>"
      ]
     },
     "metadata": {
      "needs_background": "light"
     },
     "output_type": "display_data"
    }
   ],
   "source": [
    "df_18.plot(x=\"Air Pollution Score\", y=\"Cmb MPG\",kind=\"scatter\")\n",
    "plt.title(\"Correlation between Air Pollution Score and combined mpg 2018\")"
   ]
  },
  {
   "cell_type": "markdown",
   "id": "322c621d",
   "metadata": {},
   "source": [
    "## Conclusions"
   ]
  },
  {
   "cell_type": "code",
   "execution_count": 131,
   "id": "d1513421",
   "metadata": {},
   "outputs": [
    {
     "data": {
      "text/plain": [
       "Gasoline    623\n",
       "CNG           2\n",
       "Name: Fuel, dtype: int64"
      ]
     },
     "execution_count": 131,
     "metadata": {},
     "output_type": "execute_result"
    }
   ],
   "source": [
    "df_08[\"Fuel\"].value_counts()"
   ]
  },
  {
   "cell_type": "code",
   "execution_count": 132,
   "id": "000322ef",
   "metadata": {},
   "outputs": [
    {
     "data": {
      "text/plain": [
       "Gasoline       354\n",
       "Electricity     68\n",
       "Diesel          10\n",
       "Name: Fuel, dtype: int64"
      ]
     },
     "execution_count": 132,
     "metadata": {},
     "output_type": "execute_result"
    }
   ],
   "source": [
    "df_18[\"Fuel\"].value_counts()"
   ]
  },
  {
   "cell_type": "code",
   "execution_count": 133,
   "id": "52b48241",
   "metadata": {},
   "outputs": [
    {
     "data": {
      "text/plain": [
       "Fuel\n",
       "CNG           2\n",
       "Gasoline    623\n",
       "Name: Model, dtype: int64"
      ]
     },
     "execution_count": 133,
     "metadata": {},
     "output_type": "execute_result"
    }
   ],
   "source": [
    "df_08.groupby(\"Fuel\")[\"Model\"].count()"
   ]
  },
  {
   "cell_type": "code",
   "execution_count": 134,
   "id": "3037a165",
   "metadata": {},
   "outputs": [
    {
     "data": {
      "text/plain": [
       "Fuel\n",
       "Diesel          10\n",
       "Electricity     68\n",
       "Gasoline       354\n",
       "Name: Model, dtype: int64"
      ]
     },
     "execution_count": 134,
     "metadata": {},
     "output_type": "execute_result"
    }
   ],
   "source": [
    "df_18.groupby(\"Fuel\")[\"Model\"].count()"
   ]
  },
  {
   "cell_type": "code",
   "execution_count": 138,
   "id": "ddde9702",
   "metadata": {},
   "outputs": [
    {
     "data": {
      "text/plain": [
       "array(['HONDA Civic'], dtype=object)"
      ]
     },
     "execution_count": 138,
     "metadata": {},
     "output_type": "execute_result"
    }
   ],
   "source": [
    "df_08.query('Fuel in [\"CNG\"]')[\"Model\"].unique()"
   ]
  },
  {
   "cell_type": "code",
   "execution_count": 139,
   "id": "f12b5c2c",
   "metadata": {},
   "outputs": [
    {
     "data": {
      "text/plain": [
       "1"
      ]
     },
     "execution_count": 139,
     "metadata": {},
     "output_type": "execute_result"
    }
   ],
   "source": [
    "alternative_08 = df_08.query('Fuel in [\"CNG\"]')[\"Model\"].nunique()\n",
    "alternative_08"
   ]
  },
  {
   "cell_type": "code",
   "execution_count": 145,
   "id": "c59a783b",
   "metadata": {},
   "outputs": [
    {
     "data": {
      "text/plain": [
       "array(['BMW 328d', 'CHEVROLET Cruze', 'CHEVROLET Cruze Hatchback',\n",
       "       'AUDI A3 e-tron', 'BMW 330e', 'BMW 530e', 'BMW 740e',\n",
       "       'BMW X5 xDrive40e', 'BMW i3 (94Ah)', 'BMW i3s (94Ah)',\n",
       "       'CADILLAC CT6 Plug-In', 'CHEVROLET Volt',\n",
       "       'CHRYSLER Pacifica Hybrid', 'FORD Fusion Energi Plug-in Hybrid',\n",
       "       'HONDA Clarity', 'HYUNDAI Ioniq Plug-in Hybrid',\n",
       "       'HYUNDAI Sonata plug-in hybrid', 'KIA Niro Plug-in Hybrid',\n",
       "       'KIA Optima plug-in hybrid', 'MERCEDES-BENZ C350e',\n",
       "       'MERCEDES-BENZ GLC 350e 4Matic', 'MERCEDES-BENZ GLE550e 4Matic',\n",
       "       'MINI Cooper SE Countryman All4', 'MITSUBISHI Outlander PHEV',\n",
       "       'PORSCHE Cayenne S e-Hybrid', 'PORSCHE Panamera 4 e-Hybrid',\n",
       "       'PORSCHE Panamera 4 e-Hybrid Executive',\n",
       "       'PORSCHE Panamera 4 e-Hybrid ST',\n",
       "       'PORSCHE Panamera Turbo S e-Hybrid',\n",
       "       'PORSCHE Panamera Turbo S e-Hybrid Exec',\n",
       "       'PORSCHE Panamera Turbo S e-Hybrid ST', 'TOYOTA Prius Prime',\n",
       "       'VOLVO S90', 'VOLVO XC60', 'VOLVO XC90'], dtype=object)"
      ]
     },
     "execution_count": 145,
     "metadata": {},
     "output_type": "execute_result"
    }
   ],
   "source": [
    "df_18.query('Fuel in [\"Diesel\",\"Electricity\"]')[\"Model\"].unique()"
   ]
  },
  {
   "cell_type": "code",
   "execution_count": 146,
   "id": "05a529ba",
   "metadata": {},
   "outputs": [
    {
     "data": {
      "text/plain": [
       "35"
      ]
     },
     "execution_count": 146,
     "metadata": {},
     "output_type": "execute_result"
    }
   ],
   "source": [
    "alternative_18 = df_18.query('Fuel in [\"Diesel\",\"Electricity\"]')[\"Model\"].nunique()\n",
    "alternative_18"
   ]
  },
  {
   "cell_type": "code",
   "execution_count": 147,
   "id": "d9484aaa",
   "metadata": {},
   "outputs": [
    {
     "data": {
      "text/plain": [
       "Text(0.5, 1.0, 'Number of Unique Models using Alternative Fuel')"
      ]
     },
     "execution_count": 147,
     "metadata": {},
     "output_type": "execute_result"
    },
    {
     "data": {
      "image/png": "[encoded data removed]",
      "text/plain": [
       "<Figure size 432x288 with 1 Axes>"
      ]
     },
     "metadata": {
      "needs_background": "light"
     },
     "output_type": "display_data"
    }
   ],
   "source": [
    "plt.bar([\"2008\", \"2018\"], [alternative_08, alternative_18])\n",
    "plt.xlabel(\"Year\")\n",
    "plt.ylabel(\"Number of Models\")\n",
    "plt.title(\"Number of Unique Models using Alternative Fuel\")"
   ]
  },
  {
   "cell_type": "code",
   "execution_count": 149,
   "id": "7bafbf15",
   "metadata": {},
   "outputs": [
    {
     "name": "stdout",
     "output_type": "stream",
     "text": [
      "Total number of Model in 2008:  170\n",
      "Total number of Model in 2018:  112\n"
     ]
    }
   ],
   "source": [
    "total_08=df_08[\"Model\"].nunique()\n",
    "total_18=df_18[\"Model\"].nunique()\n",
    "\n",
    "print(\"Total number of Model in 2008: \",total_08)\n",
    "print(\"Total number of Model in 2018: \",total_18)"
   ]
  },
  {
   "cell_type": "code",
   "execution_count": 150,
   "id": "91f7ec6c",
   "metadata": {},
   "outputs": [
    {
     "name": "stdout",
     "output_type": "stream",
     "text": [
      "Proportion of Altrnative Fuel used Models in 2008:  0.0058823529411764705\n",
      "Proportion of Altrnative Fuel used Models in 2018:  0.3125\n"
     ]
    }
   ],
   "source": [
    "proportion_08 = alternative_08 / total_08\n",
    "proportion_18 = alternative_18 / total_18\n",
    "\n",
    "print(\"Proportion of Altrnative Fuel used Models in 2008: \", proportion_08)\n",
    "print(\"Proportion of Altrnative Fuel used Models in 2018: \", proportion_18)"
   ]
  },
  {
   "cell_type": "code",
   "execution_count": 151,
   "id": "f83feb18",
   "metadata": {},
   "outputs": [
    {
     "data": {
      "text/plain": [
       "Text(0, 0.5, 'Proportion of Unique Models')"
      ]
     },
     "execution_count": 151,
     "metadata": {},
     "output_type": "execute_result"
    },
    {
     "data": {
      "image/png": "[encoded data removed]",
      "text/plain": [
       "<Figure size 432x288 with 1 Axes>"
      ]
     },
     "metadata": {
      "needs_background": "light"
     },
     "output_type": "display_data"
    }
   ],
   "source": [
    "plt.bar([\"2008\", \"2018\"], [proportion_08, proportion_18])\n",
    "plt.title(\"Proportion of Unique Models Using Alternative Fuels\")\n",
    "plt.xlabel(\"Year\")\n",
    "plt.ylabel(\"Proportion of Unique Models\")"
   ]
  },
  {
   "cell_type": "markdown",
   "id": "28d07c04",
   "metadata": {},
   "source": [
    "### How much have vehicle classes improved in fuel economy (increased in mpg)?"
   ]
  },
  {
   "cell_type": "code",
   "execution_count": 152,
   "id": "c0291495",
   "metadata": {},
   "outputs": [
    {
     "name": "stdout",
     "output_type": "stream",
     "text": [
      "<class 'pandas.core.frame.DataFrame'>\n",
      "Int64Index: 625 entries, 0 to 637\n",
      "Data columns (total 14 columns):\n",
      " #   Column                Non-Null Count  Dtype  \n",
      "---  ------                --------------  -----  \n",
      " 0   Model                 625 non-null    object \n",
      " 1   Displ                 625 non-null    float64\n",
      " 2   Cyl                   625 non-null    int32  \n",
      " 3   Trans                 625 non-null    object \n",
      " 4   Drive                 625 non-null    object \n",
      " 5   Fuel                  625 non-null    object \n",
      " 6   Sales Area            625 non-null    object \n",
      " 7   Veh Class             625 non-null    object \n",
      " 8   Air Pollution Score   625 non-null    float64\n",
      " 9   City MPG              625 non-null    float64\n",
      " 10  Hwy MPG               625 non-null    float64\n",
      " 11  Cmb MPG               625 non-null    float64\n",
      " 12  Greenhouse Gas Score  625 non-null    float64\n",
      " 13  SmartWay              625 non-null    object \n",
      "dtypes: float64(6), int32(1), object(7)\n",
      "memory usage: 87.0+ KB\n"
     ]
    }
   ],
   "source": [
    "df_08.info()"
   ]
  },
  {
   "cell_type": "code",
   "execution_count": 153,
   "id": "cb33a8fc",
   "metadata": {},
   "outputs": [
    {
     "data": {
      "text/plain": [
       "small car        307\n",
       "midsize car      121\n",
       "SUV               90\n",
       "station wagon     62\n",
       "large car         28\n",
       "pickup            13\n",
       "minivan            4\n",
       "Name: Veh Class, dtype: int64"
      ]
     },
     "execution_count": 153,
     "metadata": {},
     "output_type": "execute_result"
    }
   ],
   "source": [
    "df_08[\"Veh Class\"].value_counts()"
   ]
  },
  {
   "cell_type": "code",
   "execution_count": 155,
   "id": "bca9790b",
   "metadata": {},
   "outputs": [
    {
     "data": {
      "text/plain": [
       "Veh Class\n",
       "SUV              23.833333\n",
       "large car        22.178571\n",
       "midsize car      24.603306\n",
       "minivan          23.500000\n",
       "pickup           21.153846\n",
       "small car        24.387622\n",
       "station wagon    24.629032\n",
       "Name: Cmb MPG, dtype: float64"
      ]
     },
     "execution_count": 155,
     "metadata": {},
     "output_type": "execute_result"
    }
   ],
   "source": [
    "veh_08=df_08.groupby(\"Veh Class\")[\"Cmb MPG\"].mean()\n",
    "veh_08"
   ]
  },
  {
   "cell_type": "code",
   "execution_count": 156,
   "id": "dc1d44a8",
   "metadata": {},
   "outputs": [
    {
     "data": {
      "text/plain": [
       "Veh Class\n",
       "large car        36.642857\n",
       "midsize car      43.069444\n",
       "minivan          58.000000\n",
       "small SUV        36.785714\n",
       "small car        39.246753\n",
       "standard SUV     36.888889\n",
       "station wagon    41.285714\n",
       "Name: Cmb MPG, dtype: float64"
      ]
     },
     "execution_count": 156,
     "metadata": {},
     "output_type": "execute_result"
    }
   ],
   "source": [
    "veh_18=df_18.groupby(\"Veh Class\")[\"Cmb MPG\"].mean()\n",
    "veh_18"
   ]
  },
  {
   "cell_type": "code",
   "execution_count": 163,
   "id": "626017a2",
   "metadata": {},
   "outputs": [
    {
     "data": {
      "text/plain": [
       "Veh Class\n",
       "SUV                    NaN\n",
       "large car        14.464286\n",
       "midsize car      18.466139\n",
       "minivan          34.500000\n",
       "pickup                 NaN\n",
       "small SUV              NaN\n",
       "small car        14.859131\n",
       "standard SUV           NaN\n",
       "station wagon    16.656682\n",
       "Name: Cmb MPG, dtype: float64"
      ]
     },
     "execution_count": 163,
     "metadata": {},
     "output_type": "execute_result"
    }
   ],
   "source": [
    "improvement = veh_18-veh_08\n",
    "improvement"
   ]
  },
  {
   "cell_type": "code",
   "execution_count": 164,
   "id": "ef5dd77d",
   "metadata": {},
   "outputs": [],
   "source": [
    "improvement.dropna(inplace=True)"
   ]
  },
  {
   "cell_type": "code",
   "execution_count": 165,
   "id": "89c1609a",
   "metadata": {},
   "outputs": [
    {
     "data": {
      "text/plain": [
       "Veh Class\n",
       "large car        14.464286\n",
       "midsize car      18.466139\n",
       "minivan          34.500000\n",
       "small car        14.859131\n",
       "station wagon    16.656682\n",
       "Name: Cmb MPG, dtype: float64"
      ]
     },
     "execution_count": 165,
     "metadata": {},
     "output_type": "execute_result"
    }
   ],
   "source": [
    "improvement"
   ]
  },
  {
   "cell_type": "code",
   "execution_count": 166,
   "id": "15f19ba6",
   "metadata": {},
   "outputs": [
    {
     "data": {
      "text/plain": [
       "Text(0, 0.5, 'Increase in Average Combined MPG')"
      ]
     },
     "execution_count": 166,
     "metadata": {},
     "output_type": "execute_result"
    },
    {
     "data": {
      "image/png": "[encoded data removed]",
      "text/plain": [
       "<Figure size 720x432 with 1 Axes>"
      ]
     },
     "metadata": {
      "needs_background": "light"
     },
     "output_type": "display_data"
    }
   ],
   "source": [
    "fig, ax = plt.subplots(figsize = (10, 6))\n",
    "ax.bar(improvement.index, improvement);\n",
    "plt.title(\"Improvements in Fuel Economy from 2008 to 2018 by Vehicle Class\")\n",
    "plt.xlabel(\"Vehicle Class\")\n",
    "plt.ylabel(\"Increase in Average Combined MPG\")"
   ]
  },
  {
   "cell_type": "markdown",
   "id": "a0e850d8",
   "metadata": {},
   "source": [
    "## Merging Datasets"
   ]
  },
  {
   "cell_type": "code",
   "execution_count": 167,
   "id": "1db3930f",
   "metadata": {},
   "outputs": [
    {
     "data": {
      "text/html": [
       "<div>\n",
       "<style scoped>\n",
       "    .dataframe tbody tr th:only-of-type {\n",
       "        vertical-align: middle;\n",
       "    }\n",
       "\n",
       "    .dataframe tbody tr th {\n",
       "        vertical-align: top;\n",
       "    }\n",
       "\n",
       "    .dataframe thead th {\n",
       "        text-align: right;\n",
       "    }\n",
       "</style>\n",
       "<table border=\"1\" class=\"dataframe\">\n",
       "  <thead>\n",
       "    <tr style=\"text-align: right;\">\n",
       "      <th></th>\n",
       "      <th>Model_08</th>\n",
       "      <th>Displ_08</th>\n",
       "      <th>Cyl_08</th>\n",
       "      <th>Trans_08</th>\n",
       "      <th>Drive_08</th>\n",
       "      <th>Fuel_08</th>\n",
       "      <th>Sales Area_08</th>\n",
       "      <th>Veh Class_08</th>\n",
       "      <th>Air Pollution_08</th>\n",
       "      <th>City MPG_08</th>\n",
       "      <th>Hwy MPG_08</th>\n",
       "      <th>Cmb MPG_08</th>\n",
       "      <th>Greenhouse Ga_08</th>\n",
       "      <th>SmartWay_08</th>\n",
       "    </tr>\n",
       "  </thead>\n",
       "  <tbody>\n",
       "    <tr>\n",
       "      <th>0</th>\n",
       "      <td>ACURA TL</td>\n",
       "      <td>3.2</td>\n",
       "      <td>6</td>\n",
       "      <td>Auto-S5</td>\n",
       "      <td>2WD</td>\n",
       "      <td>Gasoline</td>\n",
       "      <td>CA</td>\n",
       "      <td>midsize car</td>\n",
       "      <td>7.0</td>\n",
       "      <td>18.0</td>\n",
       "      <td>26.0</td>\n",
       "      <td>21.0</td>\n",
       "      <td>6.0</td>\n",
       "      <td>yes</td>\n",
       "    </tr>\n",
       "    <tr>\n",
       "      <th>1</th>\n",
       "      <td>ACURA TL</td>\n",
       "      <td>3.5</td>\n",
       "      <td>6</td>\n",
       "      <td>Auto-S5</td>\n",
       "      <td>2WD</td>\n",
       "      <td>Gasoline</td>\n",
       "      <td>CA</td>\n",
       "      <td>midsize car</td>\n",
       "      <td>7.0</td>\n",
       "      <td>17.0</td>\n",
       "      <td>26.0</td>\n",
       "      <td>20.0</td>\n",
       "      <td>6.0</td>\n",
       "      <td>yes</td>\n",
       "    </tr>\n",
       "  </tbody>\n",
       "</table>\n",
       "</div>"
      ],
      "text/plain": [
       "   Model_08  Displ_08  Cyl_08 Trans_08 Drive_08   Fuel_08 Sales Area_08  \\\n",
       "0  ACURA TL       3.2       6  Auto-S5      2WD  Gasoline            CA   \n",
       "1  ACURA TL       3.5       6  Auto-S5      2WD  Gasoline            CA   \n",
       "\n",
       "  Veh Class_08  Air Pollution_08  City MPG_08  Hwy MPG_08  Cmb MPG_08  \\\n",
       "0  midsize car               7.0         18.0        26.0        21.0   \n",
       "1  midsize car               7.0         17.0        26.0        20.0   \n",
       "\n",
       "   Greenhouse Ga_08 SmartWay_08  \n",
       "0               6.0         yes  \n",
       "1               6.0         yes  "
      ]
     },
     "execution_count": 167,
     "metadata": {},
     "output_type": "execute_result"
    }
   ],
   "source": [
    "df_08 = df_08.rename(columns=lambda x:x[:13]+\"_08\")\n",
    "df_08.head(2)"
   ]
  },
  {
   "cell_type": "code",
   "execution_count": 168,
   "id": "40a6d072",
   "metadata": {},
   "outputs": [],
   "source": [
    "df_combined = df_08.merge(df_18,left_on=\"Model_08\",right_on=\"Model\",how=\"inner\")"
   ]
  },
  {
   "cell_type": "code",
   "execution_count": 169,
   "id": "32ab31ea",
   "metadata": {},
   "outputs": [
    {
     "data": {
      "text/html": [
       "<div>\n",
       "<style scoped>\n",
       "    .dataframe tbody tr th:only-of-type {\n",
       "        vertical-align: middle;\n",
       "    }\n",
       "\n",
       "    .dataframe tbody tr th {\n",
       "        vertical-align: top;\n",
       "    }\n",
       "\n",
       "    .dataframe thead th {\n",
       "        text-align: right;\n",
       "    }\n",
       "</style>\n",
       "<table border=\"1\" class=\"dataframe\">\n",
       "  <thead>\n",
       "    <tr style=\"text-align: right;\">\n",
       "      <th></th>\n",
       "      <th>Model_08</th>\n",
       "      <th>Displ_08</th>\n",
       "      <th>Cyl_08</th>\n",
       "      <th>Trans_08</th>\n",
       "      <th>Drive_08</th>\n",
       "      <th>Fuel_08</th>\n",
       "      <th>Sales Area_08</th>\n",
       "      <th>Veh Class_08</th>\n",
       "      <th>Air Pollution_08</th>\n",
       "      <th>City MPG_08</th>\n",
       "      <th>...</th>\n",
       "      <th>Drive</th>\n",
       "      <th>Fuel</th>\n",
       "      <th>Sales Area</th>\n",
       "      <th>Veh Class</th>\n",
       "      <th>Air Pollution Score</th>\n",
       "      <th>City MPG</th>\n",
       "      <th>Hwy MPG</th>\n",
       "      <th>Cmb MPG</th>\n",
       "      <th>Greenhouse Gas Score</th>\n",
       "      <th>SmartWay</th>\n",
       "    </tr>\n",
       "  </thead>\n",
       "  <tbody>\n",
       "    <tr>\n",
       "      <th>0</th>\n",
       "      <td>CHEVROLET Malibu</td>\n",
       "      <td>3.5</td>\n",
       "      <td>6</td>\n",
       "      <td>Auto-L4</td>\n",
       "      <td>2WD</td>\n",
       "      <td>Gasoline</td>\n",
       "      <td>CA</td>\n",
       "      <td>midsize car</td>\n",
       "      <td>7.0</td>\n",
       "      <td>18.0</td>\n",
       "      <td>...</td>\n",
       "      <td>2WD</td>\n",
       "      <td>Gasoline</td>\n",
       "      <td>CA</td>\n",
       "      <td>midsize car</td>\n",
       "      <td>6.0</td>\n",
       "      <td>27.0</td>\n",
       "      <td>36.0</td>\n",
       "      <td>30.0</td>\n",
       "      <td>7</td>\n",
       "      <td>Yes</td>\n",
       "    </tr>\n",
       "    <tr>\n",
       "      <th>1</th>\n",
       "      <td>CHEVROLET Malibu</td>\n",
       "      <td>3.5</td>\n",
       "      <td>6</td>\n",
       "      <td>Auto-L4</td>\n",
       "      <td>2WD</td>\n",
       "      <td>Gasoline</td>\n",
       "      <td>CA</td>\n",
       "      <td>midsize car</td>\n",
       "      <td>7.0</td>\n",
       "      <td>18.0</td>\n",
       "      <td>...</td>\n",
       "      <td>2WD</td>\n",
       "      <td>Gasoline</td>\n",
       "      <td>FA</td>\n",
       "      <td>midsize car</td>\n",
       "      <td>6.0</td>\n",
       "      <td>27.0</td>\n",
       "      <td>36.0</td>\n",
       "      <td>30.0</td>\n",
       "      <td>7</td>\n",
       "      <td>Yes</td>\n",
       "    </tr>\n",
       "    <tr>\n",
       "      <th>2</th>\n",
       "      <td>CHEVROLET Malibu</td>\n",
       "      <td>3.5</td>\n",
       "      <td>6</td>\n",
       "      <td>Auto-L4</td>\n",
       "      <td>2WD</td>\n",
       "      <td>Gasoline</td>\n",
       "      <td>CA</td>\n",
       "      <td>midsize car</td>\n",
       "      <td>7.0</td>\n",
       "      <td>18.0</td>\n",
       "      <td>...</td>\n",
       "      <td>2WD</td>\n",
       "      <td>Gasoline</td>\n",
       "      <td>CA</td>\n",
       "      <td>midsize car</td>\n",
       "      <td>7.0</td>\n",
       "      <td>27.0</td>\n",
       "      <td>36.0</td>\n",
       "      <td>30.0</td>\n",
       "      <td>7</td>\n",
       "      <td>Yes</td>\n",
       "    </tr>\n",
       "    <tr>\n",
       "      <th>3</th>\n",
       "      <td>CHEVROLET Malibu</td>\n",
       "      <td>3.5</td>\n",
       "      <td>6</td>\n",
       "      <td>Auto-L4</td>\n",
       "      <td>2WD</td>\n",
       "      <td>Gasoline</td>\n",
       "      <td>CA</td>\n",
       "      <td>midsize car</td>\n",
       "      <td>7.0</td>\n",
       "      <td>18.0</td>\n",
       "      <td>...</td>\n",
       "      <td>2WD</td>\n",
       "      <td>Gasoline</td>\n",
       "      <td>FA</td>\n",
       "      <td>midsize car</td>\n",
       "      <td>7.0</td>\n",
       "      <td>27.0</td>\n",
       "      <td>36.0</td>\n",
       "      <td>30.0</td>\n",
       "      <td>7</td>\n",
       "      <td>Yes</td>\n",
       "    </tr>\n",
       "    <tr>\n",
       "      <th>4</th>\n",
       "      <td>CHEVROLET Malibu</td>\n",
       "      <td>3.5</td>\n",
       "      <td>6</td>\n",
       "      <td>Auto-L4</td>\n",
       "      <td>2WD</td>\n",
       "      <td>Gasoline</td>\n",
       "      <td>CA</td>\n",
       "      <td>midsize car</td>\n",
       "      <td>7.0</td>\n",
       "      <td>18.0</td>\n",
       "      <td>...</td>\n",
       "      <td>2WD</td>\n",
       "      <td>Gasoline</td>\n",
       "      <td>CA</td>\n",
       "      <td>midsize car</td>\n",
       "      <td>3.0</td>\n",
       "      <td>49.0</td>\n",
       "      <td>43.0</td>\n",
       "      <td>46.0</td>\n",
       "      <td>10</td>\n",
       "      <td>Yes</td>\n",
       "    </tr>\n",
       "  </tbody>\n",
       "</table>\n",
       "<p>5 rows × 28 columns</p>\n",
       "</div>"
      ],
      "text/plain": [
       "           Model_08  Displ_08  Cyl_08 Trans_08 Drive_08   Fuel_08  \\\n",
       "0  CHEVROLET Malibu       3.5       6  Auto-L4      2WD  Gasoline   \n",
       "1  CHEVROLET Malibu       3.5       6  Auto-L4      2WD  Gasoline   \n",
       "2  CHEVROLET Malibu       3.5       6  Auto-L4      2WD  Gasoline   \n",
       "3  CHEVROLET Malibu       3.5       6  Auto-L4      2WD  Gasoline   \n",
       "4  CHEVROLET Malibu       3.5       6  Auto-L4      2WD  Gasoline   \n",
       "\n",
       "  Sales Area_08 Veh Class_08  Air Pollution_08  City MPG_08  ...  Drive  \\\n",
       "0            CA  midsize car               7.0         18.0  ...    2WD   \n",
       "1            CA  midsize car               7.0         18.0  ...    2WD   \n",
       "2            CA  midsize car               7.0         18.0  ...    2WD   \n",
       "3            CA  midsize car               7.0         18.0  ...    2WD   \n",
       "4            CA  midsize car               7.0         18.0  ...    2WD   \n",
       "\n",
       "       Fuel  Sales Area    Veh Class Air Pollution Score  City MPG  Hwy MPG  \\\n",
       "0  Gasoline          CA  midsize car                 6.0      27.0     36.0   \n",
       "1  Gasoline          FA  midsize car                 6.0      27.0     36.0   \n",
       "2  Gasoline          CA  midsize car                 7.0      27.0     36.0   \n",
       "3  Gasoline          FA  midsize car                 7.0      27.0     36.0   \n",
       "4  Gasoline          CA  midsize car                 3.0      49.0     43.0   \n",
       "\n",
       "  Cmb MPG Greenhouse Gas Score SmartWay  \n",
       "0    30.0                    7      Yes  \n",
       "1    30.0                    7      Yes  \n",
       "2    30.0                    7      Yes  \n",
       "3    30.0                    7      Yes  \n",
       "4    46.0                   10      Yes  \n",
       "\n",
       "[5 rows x 28 columns]"
      ]
     },
     "execution_count": 169,
     "metadata": {},
     "output_type": "execute_result"
    }
   ],
   "source": [
    "df_combined.head()"
   ]
  },
  {
   "cell_type": "code",
   "execution_count": null,
   "id": "c784c75c",
   "metadata": {},
   "outputs": [],
   "source": []
  }
 ],
 "metadata": {
  "kernelspec": {
   "display_name": "Python 3 (ipykernel)",
   "language": "python",
   "name": "python3"
  },
  "language_info": {
   "codemirror_mode": {
    "name": "ipython",
    "version": 3
   },
   "file_extension": ".py",
   "mimetype": "text/x-python",
   "name": "python",
   "nbconvert_exporter": "python",
   "pygments_lexer": "ipython3",
   "version": "3.10.11"
  }
 },
 "nbformat": 4,
 "nbformat_minor": 5
}
